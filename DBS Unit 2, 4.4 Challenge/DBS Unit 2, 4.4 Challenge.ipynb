{
 "cells": [
  {
   "cell_type": "code",
   "execution_count": 75,
   "metadata": {},
   "outputs": [],
   "source": [
    "# The objective is to make the equation equivalent to Propertycrime=α+Population+Population2+Murder+Robbery\n",
    "\n",
    "import math\n",
    "import warnings\n",
    "\n",
    "from IPython.display import display\n",
    "import pandas as pd\n",
    "from matplotlib import pyplot as plt\n",
    "import numpy as np\n",
    "from sklearn import linear_model\n",
    "import scipy\n",
    "import seaborn as sns\n",
    "import statsmodels.formula.api as smf\n",
    "\n",
    "# Display preferences.\n",
    "%matplotlib inline\n",
    "pd.options.display.float_format = '{:3f}'.format\n",
    "\n",
    "# Suppress warnings\n",
    "import warnings\n",
    "warnings.filterwarnings(action='ignore', module='scipy', message='^internal gelsd')\n",
    "\n",
    "# Bring in data\n",
    "df = pd.read_csv(\"table_8_offenses_known_to_law_enforcement_new_york_by_city_2013.csv\")\n",
    "# Pick the fourth row as the header\n",
    "df.columns = df.iloc[3]\n",
    "# Rename column headers to make it easier to work with\n",
    "df.columns = ['city', 'population', 'violent', 'murder', 'r_1', 'r_2', 'robbery', 'assault', 'property', 'burglary', 'larceny', 'motor', 'arson', 'empty']\n",
    "# Remove the any lines that are empty in Population column.\n",
    "df.dropna(subset=['population'], inplace=True)\n",
    "# Remove another line filled with wrong data\n",
    "df.drop(df.index[0], inplace=True)"
   ]
  },
  {
   "cell_type": "code",
   "execution_count": 76,
   "metadata": {},
   "outputs": [
    {
     "name": "stdout",
     "output_type": "stream",
     "text": [
      "  population murder robbery assault\n",
      "4       1861      0       0       0\n",
      "5       2577      0       0       3\n",
      "6       2846      0       0       3\n",
      "7      97956      8     227     526\n",
      "8       6388      0       4      16\n"
     ]
    }
   ],
   "source": [
    "# Remove columns that will not be added to the equation.\n",
    "df = df.drop(columns=['city', 'violent', 'r_1', 'r_2', 'property', 'burglary', 'larceny', 'motor', 'arson', 'empty'])\n",
    "\n",
    "# Make definition to remove commas from strings\n",
    "def replace(column):\n",
    "    df[column] = df[column].str.replace(',', '')\n",
    "    \n",
    "replace('population')\n",
    "replace('murder')\n",
    "replace('robbery')\n",
    "replace('assault')\n",
    "\n",
    "# Convert type to integers\n",
    "print(df.head())"
   ]
  },
  {
   "cell_type": "code",
   "execution_count": 77,
   "metadata": {},
   "outputs": [
    {
     "data": {
      "image/png": "[encoded data removed]",
      "text/plain": [
       "<matplotlib.figure.Figure at 0x20773e1c7b8>"
      ]
     },
     "metadata": {},
     "output_type": "display_data"
    }
   ],
   "source": [
    "# Change variables so any values greater than 0 is coded as 1\n",
    "# And any values equal to 0 are coded as 0.\n",
    "# first check for anamolies\n",
    "plt.figure(figsize=(7, 7))\n",
    "plt.scatter(x=df['population'], y=df['murder'])\n",
    "plt.show()"
   ]
  },
  {
   "cell_type": "code",
   "execution_count": 78,
   "metadata": {},
   "outputs": [
    {
     "name": "stdout",
     "output_type": "stream",
     "text": [
      "    population  murder  robbery  assault\n",
      "4         1861       0        0        0\n",
      "5         2577       0        0        3\n",
      "6         2846       0        0        3\n",
      "7        97956       8      227      526\n",
      "8         6388       0        4       16\n",
      "9         4089       0        3        2\n",
      "10        1781       0        0        3\n",
      "11      118296       1       31       68\n",
      "12        9519       0        4        3\n",
      "13       18182       0       12       18\n"
     ]
    }
   ],
   "source": [
    "# Convert to integer\n",
    "df.population = df.population.astype(int)\n",
    "df.murder = df.murder.astype(int)\n",
    "df.robbery = df.robbery.astype(int)\n",
    "df.assault = df.assault.astype(int)\n",
    "df\n",
    "\n",
    "print(df[:10])"
   ]
  },
  {
   "cell_type": "code",
   "execution_count": 79,
   "metadata": {},
   "outputs": [
    {
     "data": {
      "text/html": [
       "<div>\n",
       "<style scoped>\n",
       "    .dataframe tbody tr th:only-of-type {\n",
       "        vertical-align: middle;\n",
       "    }\n",
       "\n",
       "    .dataframe tbody tr th {\n",
       "        vertical-align: top;\n",
       "    }\n",
       "\n",
       "    .dataframe thead th {\n",
       "        text-align: right;\n",
       "    }\n",
       "</style>\n",
       "<table border=\"1\" class=\"dataframe\">\n",
       "  <thead>\n",
       "    <tr style=\"text-align: right;\">\n",
       "      <th></th>\n",
       "      <th>population</th>\n",
       "      <th>murder</th>\n",
       "      <th>robbery</th>\n",
       "      <th>assault</th>\n",
       "    </tr>\n",
       "  </thead>\n",
       "  <tbody>\n",
       "    <tr>\n",
       "      <th>4</th>\n",
       "      <td>1861</td>\n",
       "      <td>0</td>\n",
       "      <td>0</td>\n",
       "      <td>0</td>\n",
       "    </tr>\n",
       "    <tr>\n",
       "      <th>5</th>\n",
       "      <td>2577</td>\n",
       "      <td>0</td>\n",
       "      <td>0</td>\n",
       "      <td>1</td>\n",
       "    </tr>\n",
       "    <tr>\n",
       "      <th>6</th>\n",
       "      <td>2846</td>\n",
       "      <td>0</td>\n",
       "      <td>0</td>\n",
       "      <td>1</td>\n",
       "    </tr>\n",
       "    <tr>\n",
       "      <th>7</th>\n",
       "      <td>97956</td>\n",
       "      <td>1</td>\n",
       "      <td>1</td>\n",
       "      <td>1</td>\n",
       "    </tr>\n",
       "    <tr>\n",
       "      <th>8</th>\n",
       "      <td>6388</td>\n",
       "      <td>0</td>\n",
       "      <td>1</td>\n",
       "      <td>1</td>\n",
       "    </tr>\n",
       "  </tbody>\n",
       "</table>\n",
       "</div>"
      ],
      "text/plain": [
       "   population  murder  robbery  assault\n",
       "4        1861       0        0        0\n",
       "5        2577       0        0        1\n",
       "6        2846       0        0        1\n",
       "7       97956       1        1        1\n",
       "8        6388       0        1        1"
      ]
     },
     "execution_count": 79,
     "metadata": {},
     "output_type": "execute_result"
    }
   ],
   "source": [
    "# Change variables so any values greater than 0 is coded as 1\n",
    "# And any values equal to 0 are coded as 0.\n",
    "#print(df.loc[df['murder'] > 0])\n",
    "#df['robbery'].replace(to_replace=df.loc[df['robbery'] > 0], value='1', inplace=True)\n",
    "#df['robbery'] = df['robbery'].map({227: 1, 0: 0})\n",
    "df['murder'][df['murder'] > 0] = 1\n",
    "df['robbery'][df['robbery'] > 0] = 1\n",
    "df['assault'][df['assault'] > 0] = 1\n",
    "df.head()"
   ]
  },
  {
   "cell_type": "markdown",
   "metadata": {},
   "source": [
    "Using this data, build a regression model to predict property crimes. You can use the features you prepared in the previous assignment, new features of your own choosing, or a combination. The goal here is prediction rather than understanding mechanisms, so the focus is on creating a model that explains a lot of variance."
   ]
  },
  {
   "cell_type": "code",
   "execution_count": 80,
   "metadata": {},
   "outputs": [
    {
     "data": {
      "image/png": "[encoded data removed]",
      "text/plain": [
       "<matplotlib.figure.Figure at 0x207731787b8>"
      ]
     },
     "metadata": {},
     "output_type": "display_data"
    }
   ],
   "source": [
    "# Plot regression\n",
    "sns.heatmap(df.corr())\n",
    "plt.show()"
   ]
  },
  {
   "cell_type": "code",
   "execution_count": 81,
   "metadata": {},
   "outputs": [
    {
     "name": "stdout",
     "output_type": "stream",
     "text": [
      "\n",
      "Coefficients: \n",
      " [[  2707.45662353  12876.98405933 203428.19857375]]\n",
      "\n",
      "Intercept: \n",
      " [1466.44205072]\n",
      "\n",
      "R-squared:\n",
      "0.0265514928384899\n"
     ]
    }
   ],
   "source": [
    "# Instantiate\n",
    "regr = linear_model.LinearRegression()\n",
    "Y = df['population'].values.reshape(-1, 1)\n",
    "X = df[['assault', 'robbery', 'murder']]\n",
    "regr.fit(X, Y)\n",
    "\n",
    "# Check the results\n",
    "print('\\nCoefficients: \\n', regr.coef_)\n",
    "print('\\nIntercept: \\n', regr.intercept_)\n",
    "print('\\nR-squared:')\n",
    "print(regr.score(X, Y))"
   ]
  },
  {
   "cell_type": "markdown",
   "metadata": {},
   "source": [
    "It looks like the correlation betweent the data is not high at all, since the R-squared is very low."
   ]
  },
  {
   "cell_type": "code",
   "execution_count": 91,
   "metadata": {},
   "outputs": [
    {
     "name": "stdout",
     "output_type": "stream",
     "text": [
      "\n",
      "Coefficients: \n",
      " [[1.]]\n",
      "\n",
      "Intercept: \n",
      " [0.]\n",
      "\n",
      "R-squared:\n",
      "1.0\n"
     ]
    },
    {
     "data": {
      "image/png": "[encoded data removed]",
      "text/plain": [
       "<matplotlib.figure.Figure at 0x207750b09b0>"
      ]
     },
     "metadata": {},
     "output_type": "display_data"
    }
   ],
   "source": [
    "# Instantiate\n",
    "regr = linear_model.LinearRegression()\n",
    "Y = df['population'].values.reshape(-1, 1)\n",
    "X = df[['population']]\n",
    "regr.fit(X, Y)\n",
    "\n",
    "# Check the results\n",
    "print('\\nCoefficients: \\n', regr.coef_)\n",
    "print('\\nIntercept: \\n', regr.intercept_)\n",
    "print('\\nR-squared:')\n",
    "print(regr.score(X, Y))\n",
    "\n",
    "# Plot outputs\n",
    "plt.scatter(X, Y, color='black')\n",
    "plt.plot(X, regr.predict(X), color='blue', linewidth=3)\n",
    "plt.show()"
   ]
  }
 ],
 "metadata": {
  "kernelspec": {
   "display_name": "Python 3",
   "language": "python",
   "name": "python3"
  },
  "language_info": {
   "codemirror_mode": {
    "name": "ipython",
    "version": 3
   },
   "file_extension": ".py",
   "mimetype": "text/x-python",
   "name": "python",
   "nbconvert_exporter": "python",
   "pygments_lexer": "ipython3",
   "version": "3.6.4"
  }
 },
 "nbformat": 4,
 "nbformat_minor": 2
}
