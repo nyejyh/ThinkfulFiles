{
 "cells": [
  {
   "cell_type": "markdown",
   "metadata": {},
   "source": [
    "# Formulating Good Research Questions\n",
    "\n",
    "## Summary\n",
    "Categorize each of the following research questions as \"good\" or \"bad.\"  Provide alternative formulations for the bad ones.\n",
    "\n",
    "### 1. What is the 1994 rate of juvenile delinquency in the U.S.?\n",
    "This is good.  It gives a specific year and place to calculate the juvenile delinquency.  This is a research question about quantity, which require models that are designed to deal with continuous outcomes.\n",
    "\n",
    "### 2. What can we do to reduce juvenile delinquency in the U.S.?\n",
    "This is bad.  The question is a very broad and carptet blanketing type.  \"What can we do\" refers to the actions that we can carry out, which usually are answered with answers that would not require data collection or research.  You could say \"ban violent video games,\" and this would be an answer to the question.\n",
    "An alternative to this question is \"Will removing this gang called MS13 reduce juvenile delinquency over 3 years in the US?\"  This gives us a real focus on a possible \"solution\" that we can test and run samples on.\n",
    "\n",
    "### 3. Does education play a role in reducing juvenile delinquents' return to crime?\n",
    "This is bad.  Not only is the question being put broad, but the element that might play a role in reducing juvenile delinquents' return to crime extremely hazy.  What exactly is education?  Is it simply reading the textbooks, related to homeschooling, or institutional entities that claim they provide the correct sort of education?  If the element can be narrowed to a certain point, it will help.  \n",
    "\n",
    "An alternative question can be \"Does attending grade school play a role in reducing juvenile delinquents' return to crime?\"  Another one is  \"Does enforcing having a job after school reduce juvenile delinquents' return to crime?\"  These focus on actionable and measurable elements.  Grade school attendance can be measured by checking whether or not the person attended it.  Having a job while attending school can also be measured by simple yes/no questions.  In short, we would like to focus on binary outcomes and the models designed for these.\n",
    "\n",
    "### 4. How many customers does AT&T currently serve in Washington, DC?\n",
    "This is good.  This is a measurable question that is a focus on continuous outcomes.  The data can easily be collected by AT&T, and sorted by the criteria \"Washington, DC\" and \"AT&T Customers.\"\n",
    "\n",
    "### 5. What factors lead consumers to choose AT&T over other service providers?\n",
    "This is bad.  The question is focusing on the factors and elements that can influence the subject we want to know, namely consumers choosing AT&T over other service providers.  There are many different factors that can contribute, such as pricing, location, speed range available, services available, deals, and so on.  Even branding and marketing follow-throughs can play a huge role.  A better way to ask the question can be \"Does pricing lead consumers to choose AT&T?\"  Another one would be \"What ranges of internet speed that AT&T offer attracts the customers in comparison to other service providers?\"  The key is to be more detailed about the questions themselves.\n",
    "\n",
    "### 6. How can AT&T attract more customers?\n",
    "This is bad.  The question is an open-ended question in which there is no focus.  There are many factors that AT&T can count on to attract more customers.  In order to quantify the question, it is better to ask a question like \"Does increasing SEO coverage help AT&T attract more customers?\"  Another question to ask can be \"Does alternating pricing for AT&T attract more customer?\"  The idea is to bring in the elements that can be quantified and measured.\n",
    "\n",
    "### 7. Why did the Challenger Shuttle explode?\n",
    "This is bad.  The question is yet another open-ended question that has absolutely no focus whatsoever.  Not only that, the subject that we want to find out about only has an instance of one.  There is only one Challenger Shuttle that we could research on, not many.  If we were to attempt to experiment, it would not make sense because we are not able to measure any part of the subject itself.  Without the subject, we cannot ask questions that can lead us to give the right answer.  The most we can do is to rely on the schematics that were used to build the shuttle, and maybe the logs of the people constructing the shuttle.  A better question to ask would be \"Which fuel is more likely to cause an issue for air-borne machinery in the range of time since lift off?\"\n",
    "\n",
    "### 8. Which genes are associated with increased risk of breast cancer?\n",
    "This is good.  We know that most of the data can be collected from the genetic build.  By looking at all the women who tested positive for breast cancer (unfortunately), we can collect data on them as the B version for the A/B testing.\n",
    "\n",
    "### 9. Is it better to read to children at night or in the morning?\n",
    "This is bad.  The question is an open-ended question with the vague term \"better.\"  What does the question mean when it is asking whether something is better?  Is it addressing the brain activity of the children?  It is asking for the health of their guts?  Or is it asking about the detoriation of the children's eyes?  With so many different areas that we could ask for \"better,\" the question is simply too broad to make a good research question.  On top of this, we do not even know what books are being read to the children.\n",
    "\n",
    "A better way to ask a question would be \"Does the eyesight worsen for children when children's books are read to them at night or in the morning?\"  Another one would be \"Do children's memories improve from the books when they are read at night or in the morning?\"\n",
    "\n",
    "### 10. How does Google’s search algorithm work?\n",
    "This is good.  It is a very simple question of how something works.  The data on the activities of Google's search algorithm can be collected and analyzed.  It is also possible to reverse engineer the mechanics of the Google's search algorithm to answer the question that is posed.  However, with such a simple question that just asks for explanation, it might be hard to use any kind of quantities or probabilities."
   ]
  }
 ],
 "metadata": {
  "kernelspec": {
   "display_name": "Python 3",
   "language": "python",
   "name": "python3"
  },
  "language_info": {
   "codemirror_mode": {
    "name": "ipython",
    "version": 3
   },
   "file_extension": ".py",
   "mimetype": "text/x-python",
   "name": "python",
   "nbconvert_exporter": "python",
   "pygments_lexer": "ipython3",
   "version": "3.6.4"
  }
 },
 "nbformat": 4,
 "nbformat_minor": 2
}
