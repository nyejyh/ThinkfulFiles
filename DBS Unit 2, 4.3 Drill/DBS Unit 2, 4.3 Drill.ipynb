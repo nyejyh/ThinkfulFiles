{
 "cells": [
  {
   "cell_type": "code",
   "execution_count": 53,
   "metadata": {
    "run_control": {
     "frozen": false,
     "read_only": false
    }
   },
   "outputs": [],
   "source": [
    "import math\n",
    "import warnings\n",
    "\n",
    "from IPython.display import display\n",
    "from matplotlib import pyplot as plt\n",
    "import numpy as np\n",
    "import pandas as pd\n",
    "import seaborn as sns\n",
    "from sklearn import linear_model\n",
    "import statsmodels.formula.api as smf\n",
    "\n",
    "# Display preferences.\n",
    "%matplotlib inline\n",
    "pd.options.display.float_format = '{:.3f}'.format\n",
    "\n",
    "# Suppress annoying harmless error.\n",
    "warnings.filterwarnings(\n",
    "    action=\"ignore\",\n",
    "    module=\"scipy\",\n",
    "    message=\"^internal gelsd\"\n",
    ")"
   ]
  },
  {
   "cell_type": "code",
   "execution_count": 54,
   "metadata": {
    "run_control": {
     "frozen": false,
     "read_only": false
    }
   },
   "outputs": [
    {
     "data": {
      "text/html": [
       "<div>\n",
       "<style scoped>\n",
       "    .dataframe tbody tr th:only-of-type {\n",
       "        vertical-align: middle;\n",
       "    }\n",
       "\n",
       "    .dataframe tbody tr th {\n",
       "        vertical-align: top;\n",
       "    }\n",
       "\n",
       "    .dataframe thead th {\n",
       "        text-align: right;\n",
       "    }\n",
       "</style>\n",
       "<table border=\"1\" class=\"dataframe\">\n",
       "  <thead>\n",
       "    <tr style=\"text-align: right;\">\n",
       "      <th></th>\n",
       "      <th>Unnamed: 0</th>\n",
       "      <th>TV</th>\n",
       "      <th>Radio</th>\n",
       "      <th>Newspaper</th>\n",
       "      <th>Sales</th>\n",
       "    </tr>\n",
       "  </thead>\n",
       "  <tbody>\n",
       "    <tr>\n",
       "      <th>0</th>\n",
       "      <td>1</td>\n",
       "      <td>230.100</td>\n",
       "      <td>37.800</td>\n",
       "      <td>69.200</td>\n",
       "      <td>22.100</td>\n",
       "    </tr>\n",
       "    <tr>\n",
       "      <th>1</th>\n",
       "      <td>2</td>\n",
       "      <td>44.500</td>\n",
       "      <td>39.300</td>\n",
       "      <td>45.100</td>\n",
       "      <td>10.400</td>\n",
       "    </tr>\n",
       "    <tr>\n",
       "      <th>2</th>\n",
       "      <td>3</td>\n",
       "      <td>17.200</td>\n",
       "      <td>45.900</td>\n",
       "      <td>69.300</td>\n",
       "      <td>9.300</td>\n",
       "    </tr>\n",
       "    <tr>\n",
       "      <th>3</th>\n",
       "      <td>4</td>\n",
       "      <td>151.500</td>\n",
       "      <td>41.300</td>\n",
       "      <td>58.500</td>\n",
       "      <td>18.500</td>\n",
       "    </tr>\n",
       "    <tr>\n",
       "      <th>4</th>\n",
       "      <td>5</td>\n",
       "      <td>180.800</td>\n",
       "      <td>10.800</td>\n",
       "      <td>58.400</td>\n",
       "      <td>12.900</td>\n",
       "    </tr>\n",
       "  </tbody>\n",
       "</table>\n",
       "</div>"
      ],
      "text/plain": [
       "   Unnamed: 0      TV  Radio  Newspaper  Sales\n",
       "0           1 230.100 37.800     69.200 22.100\n",
       "1           2  44.500 39.300     45.100 10.400\n",
       "2           3  17.200 45.900     69.300  9.300\n",
       "3           4 151.500 41.300     58.500 18.500\n",
       "4           5 180.800 10.800     58.400 12.900"
      ]
     },
     "metadata": {},
     "output_type": "display_data"
    },
    {
     "name": "stdout",
     "output_type": "stream",
     "text": [
      "\n",
      "Coefficients: \n",
      " [[ 0.04576465  0.18853002 -0.00103749]]\n",
      "\n",
      "Intercept: \n",
      " [2.93888937]\n",
      "\n",
      "R-squared:\n",
      "0.8972106381789521\n"
     ]
    }
   ],
   "source": [
    "# Acquire, load, and preview the data.\n",
    "data = pd.read_csv('https://tf-curricula-prod.s3.amazonaws.com/data-science/Advertising.csv')\n",
    "display(data.head())\n",
    "\n",
    "# Instantiate and fit our model.\n",
    "regr = linear_model.LinearRegression()\n",
    "Y = data['Sales'].values.reshape(-1, 1)\n",
    "X = data[['TV','Radio','Newspaper']]\n",
    "regr.fit(X, Y)\n",
    "\n",
    "# Inspect the results.\n",
    "print('\\nCoefficients: \\n', regr.coef_)\n",
    "print('\\nIntercept: \\n', regr.intercept_)\n",
    "print('\\nR-squared:')\n",
    "print(regr.score(X, Y))"
   ]
  },
  {
   "cell_type": "code",
   "execution_count": 55,
   "metadata": {
    "run_control": {
     "frozen": false,
     "read_only": false
    }
   },
   "outputs": [
    {
     "data": {
      "image/png": "[encoded data removed]",
      "text/plain": [
       "<matplotlib.figure.Figure at 0x2a594749ef0>"
      ]
     },
     "metadata": {},
     "output_type": "display_data"
    },
    {
     "data": {
      "image/png": "[encoded data removed]",
      "text/plain": [
       "<matplotlib.figure.Figure at 0x2a594602710>"
      ]
     },
     "metadata": {},
     "output_type": "display_data"
    }
   ],
   "source": [
    "# Sample data.\n",
    "outcome = [1, 2, 3, 4, 5, 6, 7, 8, 9, 10, 11, 12]\n",
    "feature = [3, 4, 10, 16, 25, 33, 49, 60, 85, 100, 130, 140]\n",
    "\n",
    "# Plot the data as-is. Looks a mite quadratic.\n",
    "plt.scatter(outcome, feature)\n",
    "plt.title('Raw values')\n",
    "plt.show()\n",
    "\n",
    "# Create a feature using a non-linear transformation.\n",
    "sqrt_feature = [math.sqrt(x) for x in  feature]\n",
    "\n",
    "\n",
    "# Well now isn't that nice.\n",
    "plt.scatter(outcome, sqrt_feature)\n",
    "plt.title('Transformed values')\n",
    "plt.show()"
   ]
  },
  {
   "cell_type": "code",
   "execution_count": 56,
   "metadata": {
    "run_control": {
     "frozen": false,
     "read_only": false
    }
   },
   "outputs": [
    {
     "data": {
      "image/png": "[encoded data removed]",
      "text/plain": [
       "<matplotlib.figure.Figure at 0x2a5947f7780>"
      ]
     },
     "metadata": {},
     "output_type": "display_data"
    }
   ],
   "source": [
    "# Extract predicted values.\n",
    "predicted = regr.predict(X).ravel()\n",
    "actual = data['Sales']\n",
    "\n",
    "# Calculate the error, also called the residual.\n",
    "residual = actual - predicted\n",
    "\n",
    "# This looks a bit concerning.\n",
    "plt.hist(residual)\n",
    "plt.title('Residual counts')\n",
    "plt.xlabel('Residual')\n",
    "plt.ylabel('Count')\n",
    "plt.show()"
   ]
  },
  {
   "cell_type": "code",
   "execution_count": 57,
   "metadata": {
    "run_control": {
     "frozen": false,
     "read_only": false
    }
   },
   "outputs": [
    {
     "data": {
      "image/png": "[encoded data removed]",
      "text/plain": [
       "<matplotlib.figure.Figure at 0x2a5946c1828>"
      ]
     },
     "metadata": {},
     "output_type": "display_data"
    }
   ],
   "source": [
    "plt.scatter(predicted, residual)\n",
    "plt.xlabel('Predicted')\n",
    "plt.ylabel('Residual')\n",
    "plt.axhline(y=0)\n",
    "plt.title('Residual vs. Predicted')\n",
    "plt.show()"
   ]
  },
  {
   "cell_type": "code",
   "execution_count": 58,
   "metadata": {
    "run_control": {
     "frozen": false,
     "read_only": false
    }
   },
   "outputs": [
    {
     "data": {
      "text/html": [
       "<div>\n",
       "<style scoped>\n",
       "    .dataframe tbody tr th:only-of-type {\n",
       "        vertical-align: middle;\n",
       "    }\n",
       "\n",
       "    .dataframe tbody tr th {\n",
       "        vertical-align: top;\n",
       "    }\n",
       "\n",
       "    .dataframe thead th {\n",
       "        text-align: right;\n",
       "    }\n",
       "</style>\n",
       "<table border=\"1\" class=\"dataframe\">\n",
       "  <thead>\n",
       "    <tr style=\"text-align: right;\">\n",
       "      <th></th>\n",
       "      <th>TV</th>\n",
       "      <th>Radio</th>\n",
       "      <th>Newspaper</th>\n",
       "    </tr>\n",
       "  </thead>\n",
       "  <tbody>\n",
       "    <tr>\n",
       "      <th>TV</th>\n",
       "      <td>1.000</td>\n",
       "      <td>0.055</td>\n",
       "      <td>0.057</td>\n",
       "    </tr>\n",
       "    <tr>\n",
       "      <th>Radio</th>\n",
       "      <td>0.055</td>\n",
       "      <td>1.000</td>\n",
       "      <td>0.354</td>\n",
       "    </tr>\n",
       "    <tr>\n",
       "      <th>Newspaper</th>\n",
       "      <td>0.057</td>\n",
       "      <td>0.354</td>\n",
       "      <td>1.000</td>\n",
       "    </tr>\n",
       "  </tbody>\n",
       "</table>\n",
       "</div>"
      ],
      "text/plain": [
       "             TV  Radio  Newspaper\n",
       "TV        1.000  0.055      0.057\n",
       "Radio     0.055  1.000      0.354\n",
       "Newspaper 0.057  0.354      1.000"
      ]
     },
     "metadata": {},
     "output_type": "display_data"
    }
   ],
   "source": [
    "correlation_matrix = X.corr()\n",
    "display(correlation_matrix)"
   ]
  },
  {
   "cell_type": "markdown",
   "metadata": {},
   "source": [
    "## Drill: fixing assumptions\n",
    "\n",
    "Judging from the diagnostic plots, your data has a problem with both heteroscedasticity and multivariate non-normality.  Use the cell(s) below to see what you can do to fix it."
   ]
  },
  {
   "cell_type": "code",
   "execution_count": 59,
   "metadata": {
    "run_control": {
     "frozen": false,
     "read_only": false
    }
   },
   "outputs": [
    {
     "name": "stdout",
     "output_type": "stream",
     "text": [
      "[ 5.3075589   5.37034248  5.74215558  6.05162411  6.12602215  6.4891503\n",
      "  6.55467     6.5707774   6.599669    6.82006767  7.0322992   7.10850249\n",
      "  7.39497997  7.57483051  7.60769238  7.63888314  7.83807642  7.84904532\n",
      "  7.88410649  8.14651887  8.16531236  8.1681656   8.42401933  8.44915012\n",
      "  8.52771254  8.76480262  8.81331353  8.82630048  8.87338673  8.88787996\n",
      "  9.01603163  9.12734958  9.14402389  9.33981296  9.48964097  9.67530328\n",
      "  9.69137313  9.70853872  9.76842795  9.8272711   9.90298206  9.90868103\n",
      "  9.95168206  9.99922965 10.0095377  10.0143112  10.09133403 10.17840799\n",
      " 10.36684881 10.38419866 10.4276871  10.48212385 10.57712073 10.57717411\n",
      " 10.5871997  10.62693815 10.82439531 11.0682946  11.3460929  11.44592364\n",
      " 11.45348627 11.59870739 11.71127101 11.72975995 11.8368039  11.85832174\n",
      " 11.97093887 11.97874744 12.0370073  12.12295317 12.1620464  12.26335941\n",
      " 12.30767078 12.33785482 12.38455495 12.39914823 12.47834763 12.4891591\n",
      " 12.55084872 12.63121132 12.63571716 12.77458802 12.78592082 12.82365674\n",
      " 12.91968895 13.18867186 13.21069202 13.36324677 13.55914568 13.6264571\n",
      " 13.74435742 13.81190223 13.87595844 13.88060985 13.92809918 13.96385684\n",
      " 14.00141385 14.16607293 14.21383298 14.22372138 14.35827373 14.41010605\n",
      " 14.42184212 14.64794093 14.7405382  14.7598741  14.76221142 14.94678206\n",
      " 14.98951429 15.0827909  15.16152314 15.17319554 15.18140789 15.29422368\n",
      " 15.30509593 15.33707782 15.38485192 15.50161696 15.56609348 15.57779819\n",
      " 15.59378475 15.6100386  15.62347779 16.01099722 16.26362018 16.31492112\n",
      " 16.3600003  16.37766467 16.40377623 16.49530044 16.5459329  16.78426073\n",
      " 16.92225511 16.94035021 16.97773556 17.00682618 17.05167344 17.07644223\n",
      " 17.1861428  17.28512918 17.2959832  17.32931197 17.35163608 17.59782951\n",
      " 17.64409385 17.77949782 17.93641467 17.9415563  18.10076728 18.13348698\n",
      " 18.22390132 18.36720534 18.39902932 18.43436638 18.48695797 18.53852096\n",
      " 18.64430648 18.86426829 18.97657924 19.15639616 19.24986927 19.26692307\n",
      " 19.41053803 19.45441306 19.67547632 19.69293106 19.94469957 19.9793727\n",
      " 20.30110878 20.37443008 20.44761039 20.52397441 20.66297563 20.78136464\n",
      " 20.80301059 20.81929952 20.85125198 21.10891244 21.14027498 21.22757378\n",
      " 21.2926106  21.59580326 21.6339338  21.7226299  21.89805198 22.25549161\n",
      " 22.89067208 23.22495716 23.24248685 23.26086103]\n",
      "56     5.500\n",
      "22     5.600\n",
      "132    5.700\n",
      "192    5.900\n",
      "119    6.600\n",
      "126    6.600\n",
      "189    6.700\n",
      "76     6.900\n",
      "121    7.000\n",
      "5      7.200\n",
      "106    7.200\n",
      "91     7.300\n",
      "158    7.300\n",
      "195    7.600\n",
      "172    7.600\n",
      "166    8.000\n",
      "60     8.100\n",
      "170    8.400\n",
      "44     8.500\n",
      "10     8.600\n",
      "107    8.700\n",
      "75     8.700\n",
      "182    8.700\n",
      "72     8.800\n",
      "127    8.800\n",
      "12     9.200\n",
      "65     9.300\n",
      "2      9.300\n",
      "117    9.400\n",
      "34     9.500\n",
      "       ...  \n",
      "133   19.600\n",
      "193   19.600\n",
      "124   19.700\n",
      "109   19.800\n",
      "142   20.100\n",
      "54    20.200\n",
      "176   20.200\n",
      "104   20.700\n",
      "139   20.700\n",
      "42    20.700\n",
      "137   20.800\n",
      "53    21.200\n",
      "30    21.400\n",
      "39    21.500\n",
      "84    21.700\n",
      "111   21.800\n",
      "0     22.100\n",
      "93    22.200\n",
      "69    22.300\n",
      "15    22.400\n",
      "52    22.600\n",
      "185   22.600\n",
      "47    23.200\n",
      "55    23.700\n",
      "58    23.800\n",
      "101   23.800\n",
      "61    24.200\n",
      "17    24.400\n",
      "128   24.700\n",
      "36    25.400\n",
      "Name: Sales, Length: 190, dtype: float64\n"
     ]
    }
   ],
   "source": [
    "# Delete outliers from feature\n",
    "# Extract predicted values.\n",
    "predicted.sort()\n",
    "actual = actual.sort_values(axis=0)\n",
    "\n",
    "#actual = actual.drop(actual.index[len(actual)-5])\n",
    "actual = actual[:-5]\n",
    "actual = actual[5:]\n",
    "predicted = predicted[:-5]\n",
    "predicted = predicted[5:]\n",
    "\n",
    "print(predicted)\n",
    "print(actual)"
   ]
  },
  {
   "cell_type": "code",
   "execution_count": 60,
   "metadata": {},
   "outputs": [
    {
     "name": "stdout",
     "output_type": "stream",
     "text": [
      "[0.72489482 0.73000198 0.75907496 0.78187194 0.78717856 0.81218783\n",
      " 0.81655083 0.81761675 0.81952215 0.83378868 0.84709734 0.85177812\n",
      " 0.868937   0.87937292 0.88125294 0.88302987 0.89420949 0.89481684\n",
      " 0.89675248 0.91097207 0.9119728  0.91212453 0.92551935 0.92681303\n",
      " 0.93083255 0.94274214 0.94513922 0.94577871 0.94808941 0.94879818\n",
      " 0.95501543 0.96034468 0.96113735 0.97033818 0.97724978 0.98566459\n",
      " 0.98638531 0.98715387 0.98982468 0.99243294 0.99576599 0.99601585\n",
      " 0.99789649 0.99996654 1.00041402 1.00062108 1.00394858 1.00767986\n",
      " 1.01564676 1.01637299 1.01818799 1.02044929 1.02436746 1.02436965\n",
      " 1.0247811  1.02640815 1.03440364 1.04408071 1.05484634 1.05865084\n",
      " 1.0589377  1.06440959 1.06860403 1.06928912 1.07323445 1.07402323\n",
      " 1.07812821 1.07841141 1.08051852 1.08360843 1.08500666 1.08860946\n",
      " 1.09017587 1.09123966 1.0928804  1.09339185 1.09615708 1.0965332\n",
      " 1.09867309 1.101445   1.1015999  1.1063469  1.10673201 1.10801188\n",
      " 1.11125206 1.12020106 1.12092557 1.12591199 1.13223233 1.13438295\n",
      " 1.13812444 1.1402535  1.14226299 1.14240855 1.14389185 1.14500539\n",
      " 1.14617189 1.15124947 1.15271121 1.15301324 1.15710223 1.15866718\n",
      " 1.15902074 1.16577658 1.16851334 1.16908265 1.16915142 1.1745477\n",
      " 1.17578756 1.17848171 1.18074283 1.18107705 1.18131205 1.18452744\n",
      " 1.18483606 1.18574262 1.18709332 1.190377   1.19217963 1.19250607\n",
      " 1.19295154 1.19340398 1.19377771 1.20441838 1.21121722 1.21258498\n",
      " 1.21378331 1.21425197 1.21494384 1.21736023 1.21869126 1.22490222\n",
      " 1.22845824 1.22892238 1.22987976 1.23062327 1.23176701 1.23239739\n",
      " 1.23517842 1.23767263 1.23794525 1.23878132 1.23934043 1.24545911\n",
      " 1.24659936 1.24991949 1.25373564 1.25386011 1.25769698 1.25848132\n",
      " 1.26064136 1.26404308 1.26479491 1.26562821 1.26686545 1.26807508\n",
      " 1.27054623 1.27563996 1.27821793 1.28231381 1.28442778 1.28481236\n",
      " 1.28803757 1.28901813 1.29392525 1.29431036 1.2998275  1.30058185\n",
      " 1.30751976 1.30908547 1.31064256 1.31226146 1.31519286 1.31767406\n",
      " 1.31812619 1.31846611 1.31913214 1.32446586 1.32511063 1.32690036\n",
      " 1.32822891 1.33436936 1.3351355  1.3369124  1.34040548 1.34743719\n",
      " 1.35965854 1.36595492 1.36628259 1.36662579]\n",
      "56    0.740\n",
      "22    0.748\n",
      "132   0.756\n",
      "192   0.771\n",
      "119   0.820\n",
      "126   0.820\n",
      "189   0.826\n",
      "76    0.839\n",
      "121   0.845\n",
      "5     0.857\n",
      "106   0.857\n",
      "158   0.863\n",
      "91    0.863\n",
      "195   0.881\n",
      "172   0.881\n",
      "166   0.903\n",
      "60    0.908\n",
      "170   0.924\n",
      "44    0.929\n",
      "10    0.934\n",
      "107   0.940\n",
      "75    0.940\n",
      "182   0.940\n",
      "127   0.944\n",
      "72    0.944\n",
      "12    0.964\n",
      "65    0.968\n",
      "2     0.968\n",
      "117   0.973\n",
      "34    0.978\n",
      "       ... \n",
      "133   1.292\n",
      "193   1.292\n",
      "124   1.294\n",
      "109   1.297\n",
      "142   1.303\n",
      "176   1.305\n",
      "54    1.305\n",
      "104   1.316\n",
      "139   1.316\n",
      "42    1.316\n",
      "137   1.318\n",
      "53    1.326\n",
      "30    1.330\n",
      "39    1.332\n",
      "84    1.336\n",
      "111   1.338\n",
      "0     1.344\n",
      "93    1.346\n",
      "69    1.348\n",
      "15    1.350\n",
      "52    1.354\n",
      "185   1.354\n",
      "47    1.365\n",
      "55    1.375\n",
      "58    1.377\n",
      "101   1.377\n",
      "61    1.384\n",
      "17    1.387\n",
      "128   1.393\n",
      "36    1.405\n",
      "Name: Sales, Length: 190, dtype: float64\n"
     ]
    }
   ],
   "source": [
    "# Turn data more symmetric by log\n",
    "predicted = np.log10(predicted)\n",
    "actual = np.log10(actual)\n",
    "\n",
    "# Sort them again\n",
    "predicted.sort()\n",
    "actual = actual.sort_values(axis=0)\n",
    "\n",
    "print(predicted)\n",
    "print(actual)"
   ]
  },
  {
   "cell_type": "code",
   "execution_count": 61,
   "metadata": {},
   "outputs": [
    {
     "name": "stdout",
     "output_type": "stream",
     "text": [
      "67    -0.039\n",
      "4     -0.036\n",
      "197   -0.035\n",
      "83    -0.035\n",
      "43    -0.034\n",
      "131   -0.034\n",
      "179   -0.034\n",
      "159   -0.033\n",
      "161   -0.033\n",
      "35    -0.033\n",
      "57    -0.032\n",
      "146   -0.032\n",
      "199   -0.032\n",
      "115   -0.032\n",
      "88    -0.032\n",
      "110   -0.032\n",
      "7     -0.031\n",
      "21    -0.029\n",
      "71    -0.027\n",
      "87    -0.024\n",
      "16    -0.024\n",
      "27    -0.024\n",
      "165   -0.023\n",
      "63    -0.023\n",
      "25    -0.022\n",
      "86    -0.022\n",
      "77    -0.022\n",
      "120   -0.022\n",
      "150   -0.022\n",
      "96    -0.022\n",
      "       ...  \n",
      "166    0.020\n",
      "12     0.021\n",
      "32     0.021\n",
      "76     0.021\n",
      "17     0.021\n",
      "93     0.022\n",
      "2      0.023\n",
      "66     0.023\n",
      "69     0.023\n",
      "65     0.023\n",
      "15     0.023\n",
      "10     0.024\n",
      "5      0.024\n",
      "61     0.024\n",
      "117    0.025\n",
      "0      0.025\n",
      "121    0.026\n",
      "52     0.026\n",
      "128    0.026\n",
      "75     0.027\n",
      "107    0.028\n",
      "34     0.029\n",
      "101    0.029\n",
      "170    0.029\n",
      "47     0.030\n",
      "119    0.032\n",
      "44     0.033\n",
      "58     0.036\n",
      "55     0.038\n",
      "36     0.038\n",
      "Name: Sales, Length: 190, dtype: float64\n"
     ]
    }
   ],
   "source": [
    "# Calculate the error, also called the residual.\n",
    "residual = actual - predicted\n",
    "residual = residual.sort_values(axis=0)\n",
    "#residual = residual[1:]\n",
    "\n",
    "# Remove another outlier\n",
    "print(residual)"
   ]
  },
  {
   "cell_type": "code",
   "execution_count": 62,
   "metadata": {},
   "outputs": [
    {
     "data": {
      "image/png": "[encoded data removed]",
      "text/plain": [
       "<matplotlib.figure.Figure at 0x2a594673828>"
      ]
     },
     "metadata": {},
     "output_type": "display_data"
    }
   ],
   "source": [
    "plt.hist(residual)\n",
    "plt.title('Residual counts')\n",
    "plt.xlabel('Residual')\n",
    "plt.ylabel('Count')\n",
    "plt.show()"
   ]
  },
  {
   "cell_type": "code",
   "execution_count": 63,
   "metadata": {},
   "outputs": [
    {
     "data": {
      "image/png": "[encoded data removed]",
      "text/plain": [
       "<matplotlib.figure.Figure at 0x2a594ba3518>"
      ]
     },
     "metadata": {},
     "output_type": "display_data"
    }
   ],
   "source": [
    "plt.scatter(predicted, residual)\n",
    "plt.xlabel('Predicted')\n",
    "plt.ylabel('Residual')\n",
    "plt.axhline(y=0)\n",
    "plt.title('Residual vs. Predicted')\n",
    "plt.show()"
   ]
  }
 ],
 "metadata": {
  "hide_input": false,
  "kernelspec": {
   "display_name": "Python 3",
   "language": "python",
   "name": "python3"
  },
  "language_info": {
   "codemirror_mode": {
    "name": "ipython",
    "version": 3
   },
   "file_extension": ".py",
   "mimetype": "text/x-python",
   "name": "python",
   "nbconvert_exporter": "python",
   "pygments_lexer": "ipython3",
   "version": "3.6.4"
  },
  "toc": {
   "colors": {
    "hover_highlight": "#DAA520",
    "running_highlight": "#FF0000",
    "selected_highlight": "#FFD700"
   },
   "moveMenuLeft": true,
   "nav_menu": {
    "height": "59px",
    "width": "252px"
   },
   "navigate_menu": true,
   "number_sections": true,
   "sideBar": true,
   "threshold": 4,
   "toc_cell": false,
   "toc_section_display": "block",
   "toc_window_display": false
  }
 },
 "nbformat": 4,
 "nbformat_minor": 2
}
