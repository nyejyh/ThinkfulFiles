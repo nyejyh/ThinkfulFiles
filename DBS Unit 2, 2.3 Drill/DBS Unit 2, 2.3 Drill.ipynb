{
 "cells": [
  {
   "cell_type": "markdown",
   "metadata": {},
   "source": [
    "# Drill: Regression or Classification\n",
    "\n",
    "## Summary\n",
    "Decide if you will use regression or classification model for the following:\n",
    "\n",
    "### The amount a person will spend on a given site in the next 24 months.\n",
    "Regression Model.\n",
    "\n",
    "### What color car someone is going to buy.\n",
    "Classification Model.\n",
    "\n",
    "### How many children a family will have.\n",
    "Regression Model.\n",
    "\n",
    "### If someone will sign up for a service.\n",
    "Classification Model.\n",
    "\n",
    "### The number of times someone will get sick in a year.\n",
    "Regression Model.\n",
    "\n",
    "### The probability someone will get sick in the next month.\n",
    "Classification Model.  This is a probability of each category.  The categories are most likely \"Yes\" or \"No.\"\n",
    "\n",
    "### Which medicine will work best for a given patient.\n",
    "Classification Model."
   ]
  }
 ],
 "metadata": {
  "kernelspec": {
   "display_name": "Python 3",
   "language": "python",
   "name": "python3"
  },
  "language_info": {
   "codemirror_mode": {
    "name": "ipython",
    "version": 3
   },
   "file_extension": ".py",
   "mimetype": "text/x-python",
   "name": "python",
   "nbconvert_exporter": "python",
   "pygments_lexer": "ipython3",
   "version": "3.6.4"
  }
 },
 "nbformat": 4,
 "nbformat_minor": 2
}
