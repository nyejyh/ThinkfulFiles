{
 "cells": [
  {
   "cell_type": "markdown",
   "metadata": {},
   "source": [
    "# Experimentation RFC of Accidents\n",
    "\n",
    "### Link to Kaggle Data\n",
    "https://www.kaggle.com/silicon99/dft-accident-data/data\n",
    "\n",
    "Capstone needs to be RFC but longer, not too hard.  Talk about the experiment and collection of data, how you would set it up.  Get another dataset that match your desired experiment as closely.  2 parts to this, 1st part is how you would set it up and pretend you don't have data yet, 2nd part is when you DO have dataset you get from kraggle and talk about how you would set up t test on it.\n",
    "\n",
    "## Part 1: Without Dataset\n",
    "### The problem\n",
    "How to reduce accidents that occur in an area?  Car accidents not only endanger lives and cause injuries, but they also cost an exorbitant amount of money annually.  Usually, the cause is due to human negligence, error, or lapse in judgement.  Causes of car accident can range in anything from drinking, lack of energy, or distractions.  In effect, humans cannot be trusted to drive cars and have absolutely no incidents.\n",
    "\n",
    "### The potential solution\n",
    "The hypothesis is that implementing cars with self-driving technology will either decrease or completely eliminate car accidents that occur in an area.  The null hypothesis wil be that self-driving technology implemented into cars will not reduce the accidents.\n",
    "\n",
    "### The method of testing the solution\n",
    "In the scenario where we do not already have a dataset or information to work with, we can obtain it by the following method.  Different major companies are already in the process of developing their own self-driving technology to implement into the cars.  To test for this, we will use the A/B Method, where version A is the control sample and version B is the experimental sample.  We can select a city, such as Los Angeles for example, and divide up half of the population to continue driving the normal cars as version A, while the other half will drive (or ride) self-driving cars as version B.\n",
    "\n",
    "In order to keep things as randomized as much as possible, we can increase the number of variability.  We can add in different major cities, such as San Francisco and New York City, and pick a total of 100 drivers from each cities.  There is a possibility that each different city will have different \"driving culture.\"  Los Angeles drivers might drive more aggressively by driving close to car bumpers for instance, and create higher risks for car accidents.  By including more cities for the study, we reduce dependency on one place.  50 will be driving normal cars, while the other 50 will drive self-driving cars.  We ensure that all age groups will be included by picking a set range from each groups.  We also want to account for any factors such as ethnicity and gender (so our conclusions will stay be as unaffected as possible).  All major car manufacturers will need to be included in the experiment.  If we were to start the experiment today, we have less self-driving cars available to test than normal cars.  Therefore, the 50 normal drivers will divide themselves with as many various car companies as possible (Toyota, Nissan, Hyundai, and so on).  The other 50 drivers will only use self-driving cars that are available (most likely Google).  \n",
    "\n",
    "The next question will be the length of time for the experiment.  Three year is a good range to set the timing, as it will include all seasons per year that should occur.  Harsh weather like snow, rain, and extreme heat may cause a higher rate of accident, and is the reason why we don't want to limit ourselves to a particularly short period like a month.  Another thing to consider would be the distance that should be driven for version A and version B.\n",
    "\n",
    "Our outcome of interest will be to see whether the hypothesis, in which the driviers of self-driving cars, will have a lower rate of accident over time in comparison to the drivers of normal cars.  If the difference between the rates of accidents is not more than 15%, then we can conclude that the self-driving technology has done nothing to decrease or eliminate car accidents.\n",
    "\n",
    "Since we have two groups to compare, we can perform the t-test on them.  If the rates of accidents for both groups are scattered all over with very little variance (no remarkable difference in short), then we will get a low t-value.  However, we are really expecting to get a high t-value, in which I expect that one group will have low rates of accidents, whil the other will have high rates of accidents.\n",
    "\n",
    "The null hypothese will depend on the p-value, in which we can calculate to see if it can be rejected.\n",
    "\n",
    "\n",
    "## Part 2: With Dataset\n",
    "In general, if we have the dataset, we will need to clean the data to ensure that there is some consistency.  There might be outliers, such as older group of drivers having a higher rate of accident or a specific weather pattern that is prominent.\n",
    "\n",
    "The problem with our current data is that there is hardly any dataset that specifically measure the rate of accidents self-driving cars are in (possibly the fact that companies wouldn't want to shed bad light on this technology or their brand name).  The most that we have is the going rate of the current accidents (UK in this case).  This particular dataset does give details that I was looking for, such as date, road number, road type, whether pedestrian was crossing, weather condition, and locations. Another dataset to be considered that will closely compensate for the lack of actual hard data on autonomous cars would be gathering sentiments of the populations or pedestrains in regards to the usefulness of such cars.\n",
    "\n",
    "In this case, the closest we can find out about autonomous cars affecting accident is to measure the sentiments of people in regards to autonomous cars.  Higher sentiments or interest in self-driving cars means that people will be more inclined to buy them.  Meanwhile, lower sentiments will mean less chances of such cars on the road.  If we apply the A/B testing method to this objective, we can find out the chances of self-driving cars being on the road instead.  If we have a high chance, then we can set a base static percentage of occuring accidents by self-driving car and multiply this to the chance.  Then, we will have an idea of the chances of autonomous car accident, less clearly as it would be though."
   ]
  }
 ],
 "metadata": {
  "kernelspec": {
   "display_name": "Python 3",
   "language": "python",
   "name": "python3"
  },
  "language_info": {
   "codemirror_mode": {
    "name": "ipython",
    "version": 3
   },
   "file_extension": ".py",
   "mimetype": "text/x-python",
   "name": "python",
   "nbconvert_exporter": "python",
   "pygments_lexer": "ipython3",
   "version": "3.6.4"
  }
 },
 "nbformat": 4,
 "nbformat_minor": 2
}
