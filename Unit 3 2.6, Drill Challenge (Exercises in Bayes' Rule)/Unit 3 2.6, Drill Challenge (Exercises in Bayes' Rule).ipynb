{
 "cells": [
  {
   "cell_type": "code",
   "execution_count": null,
   "metadata": {
    "collapsed": true
   },
   "outputs": [],
   "source": [
    "# Diagnostic test has a 98% probability of giving a positive result when applied to person suffering disease.\n",
    "# Test has 10% probability of givine a false positive when applied to non-sufferer.\n",
    "# 0.5% of populations are sufferes.\n",
    "\n",
    "# Test is positive\n",
    "# P(A) = Infected = 0.005\n",
    "# P(A~) = Not infected = 0.995\n",
    "# P(B) = Positive on infected = 0.98\n",
    "# P(B~) = False positive on infected= 0.02\n",
    "# P(C) = Positive on non-infected = 0.90\n",
    "# P(C~) = False positive on non-infected = 0.10\n",
    "\n",
    "# Probability that test will be positive\n",
    "P(B) * P(A) = 0.98 * 0.005\n",
    "\n",
    "# Probability that test correctly diagnose a sufferer of Thripshaw's\n",
    "P(B) = 0.98\n",
    "\n",
    "# Probability that test correctly identify a non-sufferer of Thripshaw's\n",
    "P(C) = 0.90\n",
    "\n",
    "# Probability that test misclassify the person\n",
    "# Must be the other side of positive tests!\n",
    "1 - (P(B) * P(A) + P(C) * P(A~)) = 1 - ((0.98*0.005) + (0.9*0.995)) = 0.0996\n",
    "\n",
    "# Had to really think about what the questions are asking, at least separated the 6 total possibilities."
   ]
  }
 ],
 "metadata": {
  "kernelspec": {
   "display_name": "Python 3",
   "language": "python",
   "name": "python3"
  },
  "language_info": {
   "codemirror_mode": {
    "name": "ipython",
    "version": 3
   },
   "file_extension": ".py",
   "mimetype": "text/x-python",
   "name": "python",
   "nbconvert_exporter": "python",
   "pygments_lexer": "ipython3",
   "version": "3.6.3"
  }
 },
 "nbformat": 4,
 "nbformat_minor": 2
}
