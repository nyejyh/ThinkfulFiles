{
 "cells": [
  {
   "cell_type": "markdown",
   "metadata": {},
   "source": [
    "# Bias in Situations\n",
    "\n",
    "## Process\n",
    "Call out the potential biases for each proposed experiment.\n",
    "\n",
    "## Experiment 1\n",
    "You're testing advertising emails for a bathing suit company and you test one version of the email in February and the other in May.\n",
    "\n",
    "## Answer 1\n",
    "The biggest bias would be the timing of sending out the advertising emails.  What might be popular fashion in February, such as Valentine's Day version of bathing suits, might not be popular in May.  Because the fashion industry is fast-paced and constantly changing, the timing of emails sent will affect the responses to the advertising emails.  A better solution to this is to send different versions of emails at the same time on February, then use these differentials again on May.  This is most likely the sampling bias, or the selection bias.\n",
    "\n",
    "## Question 2\n",
    "You open a clinic to treat anxiety and find that the people who visit show a higher rate of anxiety than the general population.\n",
    "\n",
    "## Answer 2\n",
    "A bias is in this experiment is that people who visit the clinic already designated the place as \"a place solely for the purpose of curing people with anxiety issues.\"  If we want to get random samples from people visiting the clinic, it won't be possible because people who do not think they themselves have anxiety issues will visit.  Whereas, those who do think they have anxiety issues will be much more inclined to visit the clinic.  This is also related to the sampling bias, or the selection bias.\n",
    "\n",
    "## Question 3\n",
    "You launch a new ad billboard based campaign and see an increase in website visits in the first week.\n",
    "\n",
    "## Answer 3\n",
    "It is very likely that people who are visiting the website might not have been drawn into the advertisements.  It could solely be due the search engine putting up the website to the front page.  It could also be due to word of mouth.  Another possibility is the \"novelty\" or the \"trendiness of new things\" that attracted the visitors to the website.  Twitter and other social media platforms could also have been leveraged at the same time that ad billboard was put up, and could be the reason why the website is receiving more visits in the first week.  This is most likely the contextual bias, where the settings ended up playing out the different reasons why visitors decide to check out the website.\n",
    "\n",
    "## Question 4\n",
    "You launch a loyalty program but see no change in visits in the first week.\n",
    "\n",
    "## Answer 4\n",
    "The loyalty program might not be the reason why the visits have changed.  If it didn't increase or drop, then the program itself is probably not linked to visits to the website at all.  What if the program didn't require the visitors to log into the website or store in the first week?  The structure of the loyalty program could very well be something that only requires people to \"like\" a website on a social media platform or perform some particular action like buying something, but does not require them to log in or check in.  The loyalty program therefore might not be the reason why there are no changes in visits in the first week.  As this is closely tied to how the designer made the loyalty program, this is related to the observer bias."
   ]
  }
 ],
 "metadata": {
  "kernelspec": {
   "display_name": "Python 3",
   "language": "python",
   "name": "python3"
  },
  "language_info": {
   "codemirror_mode": {
    "name": "ipython",
    "version": 3
   },
   "file_extension": ".py",
   "mimetype": "text/x-python",
   "name": "python",
   "nbconvert_exporter": "python",
   "pygments_lexer": "ipython3",
   "version": "3.6.3"
  }
 },
 "nbformat": 4,
 "nbformat_minor": 2
}
