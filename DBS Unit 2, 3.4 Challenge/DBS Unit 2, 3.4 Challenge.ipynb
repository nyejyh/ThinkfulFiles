{
 "cells": [
  {
   "cell_type": "code",
   "execution_count": 2,
   "metadata": {},
   "outputs": [],
   "source": [
    "%matplotlib inline\n",
    "import numpy as np\n",
    "import pandas as pd\n",
    "import scipy\n",
    "import sklearn\n",
    "import matplotlib.pyplot as plt\n",
    "import seaborn as sns\n",
    "\n",
    "# Get data\n",
    "amz = pd.read_csv(\"amazon_cells_labelled.txt\", delimiter='\\t', header=None)\n",
    "amz.columns = ['title', 'sentiment']"
   ]
  },
  {
   "cell_type": "code",
   "execution_count": 3,
   "metadata": {},
   "outputs": [],
   "source": [
    "# Try to track keywords that has relationship to positive reviews\n",
    "keywords = ['good', 'great', 'impressed', 'loved', 'best', 'excellent', 'love', 'right', 'outperform', 'pleased', 'done', 'incredible', 'better', 'recommend', 'reasonable', 'fine', 'worth', 'perfectly', 'glad', 'easy', 'comfortable', 'joy', 'recommend', 'ok', 'easier', 'beautiful', 'fulfills', 'cool', 'very', 'extremely', 'outperform', '10', 'stars', 'increase', 'flawlessly', 'surprised', 'charm', 'wanted', 'finally', 'works']\n",
    "# Convert dataframe to string\n",
    "amz['title'] = amz['title'].astype(str)\n",
    "amz['title'] = amz['title'].str.lower()\n",
    "\n",
    "# Find the keys contained in the dataframe\n",
    "#for key in keywords:\n",
    "    #print(amz[amz['title'].str.contains(str(key))]['title'])\n",
    "#    amz[str(key)] = (amz[amz['title'].str.contains(' ' + str(key) + ' ', case=False)]['title'])\n",
    "\n",
    "for key in keywords:\n",
    "    amz[str(key)] = amz['title'].str.contains(' ' + str(key) + ' ', case=False)"
   ]
  },
  {
   "cell_type": "code",
   "execution_count": 4,
   "metadata": {},
   "outputs": [
    {
     "data": {
      "text/html": [
       "<div>\n",
       "<style scoped>\n",
       "    .dataframe tbody tr th:only-of-type {\n",
       "        vertical-align: middle;\n",
       "    }\n",
       "\n",
       "    .dataframe tbody tr th {\n",
       "        vertical-align: top;\n",
       "    }\n",
       "\n",
       "    .dataframe thead th {\n",
       "        text-align: right;\n",
       "    }\n",
       "</style>\n",
       "<table border=\"1\" class=\"dataframe\">\n",
       "  <thead>\n",
       "    <tr style=\"text-align: right;\">\n",
       "      <th></th>\n",
       "      <th>title</th>\n",
       "      <th>sentiment</th>\n",
       "      <th>good</th>\n",
       "      <th>great</th>\n",
       "      <th>impressed</th>\n",
       "      <th>loved</th>\n",
       "      <th>best</th>\n",
       "      <th>excellent</th>\n",
       "      <th>love</th>\n",
       "      <th>right</th>\n",
       "      <th>...</th>\n",
       "      <th>10</th>\n",
       "      <th>stars</th>\n",
       "      <th>increase</th>\n",
       "      <th>flawlessly</th>\n",
       "      <th>surprised</th>\n",
       "      <th>charm</th>\n",
       "      <th>wanted</th>\n",
       "      <th>finally</th>\n",
       "      <th>works</th>\n",
       "      <th>allcaps</th>\n",
       "    </tr>\n",
       "  </thead>\n",
       "  <tbody>\n",
       "    <tr>\n",
       "      <th>0</th>\n",
       "      <td>so there is no way for me to plug it in here i...</td>\n",
       "      <td>False</td>\n",
       "      <td>False</td>\n",
       "      <td>False</td>\n",
       "      <td>False</td>\n",
       "      <td>False</td>\n",
       "      <td>False</td>\n",
       "      <td>False</td>\n",
       "      <td>False</td>\n",
       "      <td>False</td>\n",
       "      <td>...</td>\n",
       "      <td>False</td>\n",
       "      <td>False</td>\n",
       "      <td>False</td>\n",
       "      <td>False</td>\n",
       "      <td>False</td>\n",
       "      <td>False</td>\n",
       "      <td>False</td>\n",
       "      <td>False</td>\n",
       "      <td>False</td>\n",
       "      <td>False</td>\n",
       "    </tr>\n",
       "    <tr>\n",
       "      <th>1</th>\n",
       "      <td>good case, excellent value.</td>\n",
       "      <td>True</td>\n",
       "      <td>False</td>\n",
       "      <td>False</td>\n",
       "      <td>False</td>\n",
       "      <td>False</td>\n",
       "      <td>False</td>\n",
       "      <td>True</td>\n",
       "      <td>False</td>\n",
       "      <td>False</td>\n",
       "      <td>...</td>\n",
       "      <td>False</td>\n",
       "      <td>False</td>\n",
       "      <td>False</td>\n",
       "      <td>False</td>\n",
       "      <td>False</td>\n",
       "      <td>False</td>\n",
       "      <td>False</td>\n",
       "      <td>False</td>\n",
       "      <td>False</td>\n",
       "      <td>False</td>\n",
       "    </tr>\n",
       "    <tr>\n",
       "      <th>2</th>\n",
       "      <td>great for the jawbone.</td>\n",
       "      <td>True</td>\n",
       "      <td>False</td>\n",
       "      <td>False</td>\n",
       "      <td>False</td>\n",
       "      <td>False</td>\n",
       "      <td>False</td>\n",
       "      <td>False</td>\n",
       "      <td>False</td>\n",
       "      <td>False</td>\n",
       "      <td>...</td>\n",
       "      <td>False</td>\n",
       "      <td>False</td>\n",
       "      <td>False</td>\n",
       "      <td>False</td>\n",
       "      <td>False</td>\n",
       "      <td>False</td>\n",
       "      <td>False</td>\n",
       "      <td>False</td>\n",
       "      <td>False</td>\n",
       "      <td>False</td>\n",
       "    </tr>\n",
       "    <tr>\n",
       "      <th>3</th>\n",
       "      <td>tied to charger for conversations lasting more...</td>\n",
       "      <td>False</td>\n",
       "      <td>False</td>\n",
       "      <td>False</td>\n",
       "      <td>False</td>\n",
       "      <td>False</td>\n",
       "      <td>False</td>\n",
       "      <td>False</td>\n",
       "      <td>False</td>\n",
       "      <td>False</td>\n",
       "      <td>...</td>\n",
       "      <td>False</td>\n",
       "      <td>False</td>\n",
       "      <td>False</td>\n",
       "      <td>False</td>\n",
       "      <td>False</td>\n",
       "      <td>False</td>\n",
       "      <td>False</td>\n",
       "      <td>False</td>\n",
       "      <td>False</td>\n",
       "      <td>False</td>\n",
       "    </tr>\n",
       "    <tr>\n",
       "      <th>4</th>\n",
       "      <td>the mic is great.</td>\n",
       "      <td>True</td>\n",
       "      <td>False</td>\n",
       "      <td>False</td>\n",
       "      <td>False</td>\n",
       "      <td>False</td>\n",
       "      <td>False</td>\n",
       "      <td>False</td>\n",
       "      <td>False</td>\n",
       "      <td>False</td>\n",
       "      <td>...</td>\n",
       "      <td>False</td>\n",
       "      <td>False</td>\n",
       "      <td>False</td>\n",
       "      <td>False</td>\n",
       "      <td>False</td>\n",
       "      <td>False</td>\n",
       "      <td>False</td>\n",
       "      <td>False</td>\n",
       "      <td>False</td>\n",
       "      <td>False</td>\n",
       "    </tr>\n",
       "  </tbody>\n",
       "</table>\n",
       "<p>5 rows × 41 columns</p>\n",
       "</div>"
      ],
      "text/plain": [
       "                                               title  sentiment   good  great  \\\n",
       "0  so there is no way for me to plug it in here i...      False  False  False   \n",
       "1                        good case, excellent value.       True  False  False   \n",
       "2                             great for the jawbone.       True  False  False   \n",
       "3  tied to charger for conversations lasting more...      False  False  False   \n",
       "4                                  the mic is great.       True  False  False   \n",
       "\n",
       "   impressed  loved   best  excellent   love  right   ...        10  stars  \\\n",
       "0      False  False  False      False  False  False   ...     False  False   \n",
       "1      False  False  False       True  False  False   ...     False  False   \n",
       "2      False  False  False      False  False  False   ...     False  False   \n",
       "3      False  False  False      False  False  False   ...     False  False   \n",
       "4      False  False  False      False  False  False   ...     False  False   \n",
       "\n",
       "   increase  flawlessly  surprised  charm  wanted  finally  works  allcaps  \n",
       "0     False       False      False  False   False    False  False    False  \n",
       "1     False       False      False  False   False    False  False    False  \n",
       "2     False       False      False  False   False    False  False    False  \n",
       "3     False       False      False  False   False    False  False    False  \n",
       "4     False       False      False  False   False    False  False    False  \n",
       "\n",
       "[5 rows x 41 columns]"
      ]
     },
     "execution_count": 4,
     "metadata": {},
     "output_type": "execute_result"
    }
   ],
   "source": [
    "# Find if message is all uppercase.\n",
    "amz['allcaps'] = amz['title'].str.isupper()\n",
    "# Boolean the sentiment column\n",
    "amz['sentiment'] = (amz['sentiment'] == 1)\n",
    "\n",
    "# Show data\n",
    "amz.head()"
   ]
  },
  {
   "cell_type": "code",
   "execution_count": 5,
   "metadata": {},
   "outputs": [
    {
     "data": {
      "image/png": "[encoded data removed]",
      "text/plain": [
       "<matplotlib.figure.Figure at 0x212f3e299b0>"
      ]
     },
     "metadata": {},
     "output_type": "display_data"
    }
   ],
   "source": [
    "sns.heatmap(amz.corr())\n",
    "plt.xlabel('title column')\n",
    "plt.ylabel('sentiment column')\n",
    "plt.show()"
   ]
  },
  {
   "cell_type": "code",
   "execution_count": 6,
   "metadata": {},
   "outputs": [],
   "source": [
    "# Build out our training data before running the model\n",
    "data = amz[keywords + ['allcaps']]\n",
    "target = amz['sentiment']"
   ]
  },
  {
   "cell_type": "code",
   "execution_count": 7,
   "metadata": {},
   "outputs": [
    {
     "name": "stdout",
     "output_type": "stream",
     "text": [
      "Number of mislabeled points out of a total 1000 points : 321\n"
     ]
    }
   ],
   "source": [
    "# use the BernoulliNB classifier\n",
    "from sklearn.naive_bayes import BernoulliNB\n",
    "\n",
    "# Instantiate our model\n",
    "bnb = BernoulliNB()\n",
    "\n",
    "# Fit our model to the data.\n",
    "bnb.fit(data, target)\n",
    "\n",
    "# Classify, storing the result in a new variable.\n",
    "y_pred = bnb.predict(data)\n",
    "\n",
    "# Display our results.\n",
    "print(\"Number of mislabeled points out of a total {} points : {}\".format(\n",
    "    data.shape[0],\n",
    "    (target != y_pred).sum()\n",
    "))"
   ]
  },
  {
   "cell_type": "code",
   "execution_count": 8,
   "metadata": {},
   "outputs": [
    {
     "data": {
      "text/plain": [
       "array([[454,  46],\n",
       "       [275, 225]], dtype=int64)"
      ]
     },
     "execution_count": 8,
     "metadata": {},
     "output_type": "execute_result"
    }
   ],
   "source": [
    "# Attempt to use the Confusion Matrix here\n",
    "from sklearn.metrics import confusion_matrix\n",
    "#y_pred = bnb.fit(data, target).predict(data)\n",
    "#newdata = amz['no'] + amz['allcaps']\n",
    "y_pred = bnb.predict(data)\n",
    "confusion_matrix(target, y_pred)"
   ]
  },
  {
   "cell_type": "code",
   "execution_count": 9,
   "metadata": {},
   "outputs": [
    {
     "name": "stdout",
     "output_type": "stream",
     "text": [
      "With 20% Holdout: 0.668\n",
      "Testing on Sample: 0.679\n"
     ]
    }
   ],
   "source": [
    "# Test your model with different holdout groups.\n",
    "\n",
    "from sklearn.model_selection import train_test_split\n",
    "# Use train_test_split to create the necessary training and test groups\n",
    "X_train, X_test, y_train, y_test = train_test_split(data, target, test_size=0.5, random_state=30)\n",
    "print('With 20% Holdout: ' + str(bnb.fit(X_train, y_train).score(X_test, y_test)))\n",
    "print('Testing on Sample: ' + str(bnb.fit(data, target).score(data, target)))"
   ]
  },
  {
   "cell_type": "code",
   "execution_count": 10,
   "metadata": {},
   "outputs": [
    {
     "data": {
      "text/plain": [
       "array([0.71, 0.61, 0.74, 0.62, 0.68, 0.64, 0.67, 0.7 , 0.68, 0.61])"
      ]
     },
     "execution_count": 10,
     "metadata": {},
     "output_type": "execute_result"
    }
   ],
   "source": [
    "from sklearn.model_selection import cross_val_score\n",
    "cross_val_score(bnb, data, target, cv=10)"
   ]
  },
  {
   "cell_type": "markdown",
   "metadata": {},
   "source": [
    "Overfitting is when my model is so complex that it starts to catch noises.  My classifiers are not deviating in anyway, so this means it is not overfitting.  The relationship shown in the graph is showing a very strong relationship between multiple variables, in the assumption that any pair of variables are independent from each other.\n",
    "\n",
    "In the array, we see that 275 of our 500 errors are failing to identify positive comments made on Amazon (false negative that is a Type 2 Error or a miss) .  We have a 46 that is a Type 1 Error, or a false alarm.  We have a 225 as a sensitivity, which is a 45%.  And we have a 90.8% specificity.\n",
    "\n",
    "Our 20% holdout number and testing on sample number is relatively the same, which means there they are pretty consistent.  However, the numbers are low, so there is a chance that the model is actually overfitting.  We can also see that the array at the bottom had an overall low 70% range."
   ]
  }
 ],
 "metadata": {
  "kernelspec": {
   "display_name": "Python 3",
   "language": "python",
   "name": "python3"
  },
  "language_info": {
   "codemirror_mode": {
    "name": "ipython",
    "version": 3
   },
   "file_extension": ".py",
   "mimetype": "text/x-python",
   "name": "python",
   "nbconvert_exporter": "python",
   "pygments_lexer": "ipython3",
   "version": "3.6.4"
  }
 },
 "nbformat": 4,
 "nbformat_minor": 2
}
