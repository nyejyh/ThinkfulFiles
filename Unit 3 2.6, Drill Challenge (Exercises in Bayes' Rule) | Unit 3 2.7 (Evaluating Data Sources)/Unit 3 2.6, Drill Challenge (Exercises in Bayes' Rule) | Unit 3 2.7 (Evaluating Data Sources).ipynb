{
 "cells": [
  {
   "cell_type": "code",
   "execution_count": 14,
   "metadata": {},
   "outputs": [],
   "source": [
    "# Unit 3 2.6, Drill Challenge (Exercises in Bayes' Rule)\n",
    "\n",
    "# Diagnostic test has a 98% probability of giving a positive result when applied to person suffering disease.\n",
    "# Test has 10% probability of givine a false positive when applied to non-sufferer.\n",
    "# 0.5% of populations are sufferes.\n",
    "\n",
    "# Test is positive\n",
    "# P(A) = Infected = 0.005\n",
    "# P(A~) = Not infected = 0.995\n",
    "# P(B) = Positive on infected = 0.98\n",
    "# P(B~) = False positive on infected= 0.02\n",
    "# P(C) = Positive on non-infected = 0.90\n",
    "# P(C~) = False positive on non-infected = 0.10\n",
    "\n",
    "# Probability that test will be positive\n",
    "###P(B) * P(A) = 0.98 * 0.005\n",
    "\n",
    "# Probability that test correctly diagnose a sufferer of Thripshaw's\n",
    "###P(B) = 0.98\n",
    "\n",
    "# Probability that test correctly identify a non-sufferer of Thripshaw's\n",
    "###P(C) = 0.90\n",
    "\n",
    "# Probability that test misclassify the person\n",
    "# Must be the other side of positive tests!\n",
    "#### 1 - (P(B) * P(A) + P(C) * P(A~)) = 1 - ((0.98*0.005) + (0.9*0.995)) = 0.0996\n",
    "\n",
    "# Had to really think about what the questions are asking, at least separated the 6 total possibilities."
   ]
  },
  {
   "cell_type": "code",
   "execution_count": null,
   "metadata": {
    "collapsed": true
   },
   "outputs": [],
   "source": [
    "# Unit 3 2.7 (Evaluating Data Sources)\n",
    "\n",
    "#1:  Shortcomings to the data sources for Amsterdam include the fact that it is only on a single day of the month from AirBnB.  Perhaps taking more sample of different days of a week would help.  It is also relatively close to a holiday, so the data will be very skewed due to it.  Popular neighborhoods include The Hague and Rotterdam, in which we can review the surrounding areas of Amsterdam and figure out the rates of availability from them.\n",
    "\n",
    "#2:  Mental health services use on the date September 12, 2001 in San Francisco, CA and New York City, NY will be skewed because this is the day after the tragedy on September 11.  It is extremely likely that more people will be using these services, which will make the data source unreliable.  Even more so, since the tragedy is focused in New York, there is a higher chance that more people will be checking in at New York than at San Francisco.  The question should be changed to different time frames for mental health services use.\n",
    "\n",
    "#3:   Check \"Occasions\" column to find that biggest reason is \"Hanging out with friends.\" Checking out \"Occupation\" column reveals most people are students.  Compare the two to find the best solution to the dataset."
   ]
  }
 ],
 "metadata": {
  "kernelspec": {
   "display_name": "Python 3",
   "language": "python",
   "name": "python3"
  },
  "language_info": {
   "codemirror_mode": {
    "name": "ipython",
    "version": 3
   },
   "file_extension": ".py",
   "mimetype": "text/x-python",
   "name": "python",
   "nbconvert_exporter": "python",
   "pygments_lexer": "ipython3",
   "version": "3.6.3"
  }
 },
 "nbformat": 4,
 "nbformat_minor": 2
}
