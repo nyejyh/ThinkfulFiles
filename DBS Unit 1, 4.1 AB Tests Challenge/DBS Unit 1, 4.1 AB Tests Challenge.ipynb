{
 "cells": [
  {
   "cell_type": "markdown",
   "metadata": {},
   "source": [
    "# Answers to A/B Test Challenge\n",
    "\n",
    "## Question 1: Does a new supplement help people sleep better?\n",
    "### Component 1 \n",
    "This section will be about the two versions to compare.  Control version will be people who do not take the supplement, while the treatment version will be the people who take the new supplement. \n",
    "### Component 2 \n",
    "This section will be about the sample divided in two groups.  In order to achieve this, we randomly select from both groups.  Both groups should maintain similar factors, such as sleeping on consistent schedule with a set amount of time (midnight to 7 AM for example).  Other factors to maintain include age, gender, and ethnicity.  If we are to see any differences, we need to ensure that they are due to reasonable sources.  \n",
    "### Component 3 \n",
    "This section will be my hypothesis, in which I expect that the new supplement will help people to sleep better. \n",
    "### Component 4 \n",
    "This will be the outcome of interest, in which I expect the treatment group to give responses that are more positive than the control group.  Things to measure will be checking the responses to educational tests, physical activities tests, and emotional tests.  The key metric is basically how well the people respond.  \n",
    "### Component 5\n",
    "This will be about other measured variables.  Diet, physique, and education level are to be measured before commiting the A/B test.  While not a direct translation of effects on the things to test for, they can contribute in some way.\n",
    "\n",
    "\n",
    "## Question 2: Will new uniforms help a gym's business?\n",
    "### Component 1 \n",
    "This will be about the two versions to compare.  Control version will be people who do not wear new uniforms while working in the gym, while the treatment version will be people who do wear new uniforms while working in the gym.  \n",
    "### Component 2\n",
    "This will be about picking samples divided in two groups.  In order to maintain randomness, both control and treatment groups be active within relative close distance to each other.  This will eliminate the possibility that location is affecting the gyms' businesses.  Gender, age, and ethnicity must match in similarity for all groups.  The hardest thing to maintain randomness would be the gyms' employees personalities, which can easily affect the gyms' businesses as they must interact with customers.\n",
    "### Component 3\n",
    "This will be the hypothesis, in which I expect that the new uniforms will help the gym's business.  \n",
    "### Component 4\n",
    "This will be the outcome of interest, in which I expect the gym with the employees wearing new uniforms to be making more revenue on a monthly basis than the other where the employees wear the old uniforms.  Monthly revenues and customers' responses are the two way to measure the difference, in which the key metric is the direct translation of money to business improvement.\n",
    "### Component 5\n",
    "This will be other measured variables.  Building age, environment of gyms (presentation of space and decorations), and equipments are things to keep an eye on as they could affect the outcome of A or B.\n",
    "\n",
    "\n",
    "## Question 3: Will a new homepage improve my online exotic pet rental business?\n",
    "### Component 1\n",
    "This will be about the two versions to compare.  Control version will be the old homepage for online exotic pet rental business, while the treatment version will have the new homepage.  \n",
    "### Component 2 \n",
    "This will be about selecting a sample.  Both versions of the website will be up at the same time, and every customers who search for my online business will be randomly directed to either one of the websites available.  The sample can be picked as the randomness factor is maintained.  \n",
    "### Component 3 \n",
    "This is the hypothesis, in which I expect the new homepage to improve my online exotic pet rental business.\n",
    "### Component 4\n",
    "This is the outcome of interest, in which I expect the version with the new homepage to do better than the one with the old homepage.  The factors to measure for are number of visitors, length of time visitors stay in the homepage, and the complete sale of the rental product.  The key metric will be the complete success of the sale, in which the option to rent an exotic pet should be easily available from the homepage.  Most likely, the new homepage will be the process of \"giving a story to customers\" that leads to customers deciding on the renting.\n",
    "### Component 5\n",
    "This will be other measured variables, in which we can gather information that customers put in, such as location, payment methods, gender, and age.  they might not be important as the main factors we are measuring, but could easily affect the reason why customers look to rent exotic pets from my business.\n",
    "\n",
    "\n",
    "## Question 4: If I put 'please read' in the email subject will more people read my emails?\n",
    "### Component 1 \n",
    "This will be about the two versions to compare.  Control version will be the original email in where \"Please Read\" will not be in the email subject, while the treatment version will have the \"Please Read\" in the email subject.\n",
    "### Component 2\n",
    "This will be about selecting a sample.  In order to maintain randomness, the both versions of the email will be sent to random people.  A way to test this is to send version A to half the people in finance department of the company, while version B will be sent to the other half of the same department.  This method can be repeated for all the departments of the company.\n",
    "### Component 3\n",
    "This will be the hypothesis, in which I expect the \"Please Read\" in the email subject to be more effective than if it is not in there.\n",
    "### Component 4\n",
    "This will be the outcome of interest, in which I expect more people to respond to me from the \"Please Read\" version than the other version.  The key metric to measure will be the number of responses that I receive by email.\n",
    "### Component 5\n",
    "This will be the other variables to measure, such as the time that the emails are sent (some people might not be available to respond immediately) and the relativity of the contents of the emails being sent out (whether it is worth reading).  They may not directly affect the outcomes, but can be related."
   ]
  }
 ],
 "metadata": {
  "kernelspec": {
   "display_name": "Python 3",
   "language": "python",
   "name": "python3"
  },
  "language_info": {
   "codemirror_mode": {
    "name": "ipython",
    "version": 3
   },
   "file_extension": ".py",
   "mimetype": "text/x-python",
   "name": "python",
   "nbconvert_exporter": "python",
   "pygments_lexer": "ipython3",
   "version": "3.6.4"
  }
 },
 "nbformat": 4,
 "nbformat_minor": 2
}
