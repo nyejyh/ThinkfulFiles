{
 "cells": [
  {
   "cell_type": "code",
   "execution_count": null,
   "metadata": {
    "collapsed": true
   },
   "outputs": [],
   "source": [
    "#Unit 3 2.8 (Challenge Beware of Monty Hall)\n",
    "\n",
    "# You have a total of 3 doors to pick from, and one has been revealed to be a dud.\n",
    "# The knowledge that one door is a dud means that you now have 2 other doors to pick.\n",
    "# But the door that you picked may or may not be a dud.\n",
    "# The door you picked being a dud is now 1/2 instead of 2/3.\n",
    "# The door you picked being a prize is now 1/2 instead of 1/3.\n",
    "# But this calculation is wrong.  If using Bayes' Rule: P(A | B) = P(B | A) * P(A) / P(B).\n",
    "# So P(Prize | Empty) = P(Empty | Prize) * P(Prize) / P(Empty)\n",
    "# = 1/2 * (1/2)/(1/2) = 1/2\n",
    "# Therefore, it should be that you have no reason to switch doors.\n",
    "# Wiki says otherwise."
   ]
  }
 ],
 "metadata": {
  "kernelspec": {
   "display_name": "Python 3",
   "language": "python",
   "name": "python3"
  },
  "language_info": {
   "codemirror_mode": {
    "name": "ipython",
    "version": 3
   },
   "file_extension": ".py",
   "mimetype": "text/x-python",
   "name": "python",
   "nbconvert_exporter": "python",
   "pygments_lexer": "ipython3",
   "version": "3.6.3"
  }
 },
 "nbformat": 4,
 "nbformat_minor": 2
}
