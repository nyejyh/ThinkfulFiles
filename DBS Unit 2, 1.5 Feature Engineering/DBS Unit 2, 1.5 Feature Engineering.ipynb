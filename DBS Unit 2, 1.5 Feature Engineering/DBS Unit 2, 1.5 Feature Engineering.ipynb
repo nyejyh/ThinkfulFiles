{
 "cells": [
  {
   "cell_type": "markdown",
   "metadata": {},
   "source": [
    "# TLADS Drill\n",
    "\n",
    "## Summary\n",
    "Categorize each of the variables in the ESS dataset as categorical or continuous, and if continuous as ordinal, interval, or ratio variables.\n",
    "\n",
    "## Columns\n",
    "\n",
    "### cntry\n",
    "This stands for country.  This column contains a list of countries' abbreviations.  This is a categorical type of variable.\n",
    "\n",
    "### idno\n",
    "This stands for respondent's identification number.  This is a continuous ordinal type of variable.\n",
    "### year\n",
    "This stands for ESS (European Social Survey) round.  6 means year 2012, while 7 means year 2014.  This is a categorical type of variable.\n",
    "### tvtot\n",
    "This stands for TV watching, total time on an average weekday.  It is a scale of 0 - 7, which is \"No time at all\" to \"More than 3 hours\" respectively.  This is a continuous ratio variable.\n",
    "### ppltrst\n",
    "This stands for \"Most people can be trusted or you can't be too careful.\"  It is a scale of 0 - 10, which is \"You can't be too careful\" to \"Most people can be trusted\" respectively.  This is an continuous interval variable.\n",
    "### pplfair\n",
    "This stands for \"Most people try to take advantage of you, or try to be fair.\"  It is a scale of 0 - 10, which is \"Most people try to take advantage of me\" to \"Most people try to be fair\" respectively.  This is an continuous interval variable.\n",
    "### pplhlp\n",
    "This stands for \"Most of the time people helpful or mostly looking out for themselves.\"  It is a scale of 0 - 10, which is \"People mostly look out for themselves\" to \"People mostly try to be helpful\" respectively.  This is an continuous interval variable.\n",
    "### happy\n",
    "This stands for \"How happy are you?\"  It is a scale of 0 - 10, which is \"Extremely unhappy\" to \"Extremely happy\" respectively.  This is a continuous ratio variable.\n",
    "### sclmeet\n",
    "This stands for \"How often socially meet with friends, relatives, or colleagues.\"  It is a scale of 1 - 7, which is \"Never\" to \"Every day\" respectively.  This is a continuous ratio variable.\n",
    "### sclact\n",
    "This stands for \"Take part in social activities compared to others of same age.\"  It is a scale of 1 - 5, which is \"Much less than most\" to \"Much more than most.\"  This is an continuous interval variable.\n",
    "### gndr\n",
    "This stands for gender.  1 is Male, while 2 is Female.  This is a categorical type of variable.\n",
    "### agea\n",
    "This stands for age of respondent, calculated.  This is a continuous ratio variable.\n",
    "### partner\n",
    "This stands for whether the responder lives with husband/wife/partner at household grid. 1 stands for yes, 2 stands for does not.  This is a categorical type of variable."
   ]
  }
 ],
 "metadata": {
  "kernelspec": {
   "display_name": "Python 3",
   "language": "python",
   "name": "python3"
  },
  "language_info": {
   "codemirror_mode": {
    "name": "ipython",
    "version": 3
   },
   "file_extension": ".py",
   "mimetype": "text/x-python",
   "name": "python",
   "nbconvert_exporter": "python",
   "pygments_lexer": "ipython3",
   "version": "3.6.4"
  }
 },
 "nbformat": 4,
 "nbformat_minor": 2
}
