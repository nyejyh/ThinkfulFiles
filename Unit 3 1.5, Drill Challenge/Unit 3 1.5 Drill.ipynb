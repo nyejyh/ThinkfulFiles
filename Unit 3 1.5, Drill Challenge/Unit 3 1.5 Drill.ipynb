{
 "cells": [
  {
   "cell_type": "code",
   "execution_count": 38,
   "metadata": {},
   "outputs": [
    {
     "name": "stdout",
     "output_type": "stream",
     "text": [
      "The mean for this data is 9.857142857142858.\n",
      "The second method for the mean is 9.857142857142858.\n",
      "The median for this dataset is 10.\n",
      "The second method for the median is 10.0.\n",
      "The mode of this dataset is 8.\n",
      "The variance of this dataset is 7.476190476190475.\n",
      "The standard deviation of this dataset is 2.531435020952764.\n",
      "The standard error of this dataset is 0.9567925036515135.\n"
     ]
    }
   ],
   "source": [
    "# The given solution is wrong as it has an extra -1?\n",
    "# Answer the drill Question 1.\n",
    "import numpy as np\n",
    "import pandas as pd\n",
    "import statistics\n",
    "%matplotlib inline\n",
    "\n",
    "# Make a blank data frame.\n",
    "df = pd.DataFrame()\n",
    "\n",
    "# Populate it with data.\n",
    "df[\"age\"] = [14, 12, 11, 10, 8, 6, 8]\n",
    "\n",
    "# mean = sum(x) / n\n",
    "mean = sum(df[\"age\"]) / len(df[\"age\"])\n",
    "print(\"The mean for this data is {}.\".format(mean))\n",
    "\n",
    "# Second method for mean.\n",
    "print(\"The second method for the mean is {}.\".format(np.mean(df[\"age\"])))\n",
    "\n",
    "# Median is the centermost point of the dataset.\n",
    "median = statistics.median(df[\"age\"])\n",
    "print(\"The median for this dataset is {}.\".format(median))\n",
    "\n",
    "# Second method for median.\n",
    "print(\"The second method for the median is {}.\".format(np.median(df[\"age\"])))\n",
    "\n",
    "# Mode is the most number of times something appears.\n",
    "mode = statistics.mode(df[\"age\"])\n",
    "print(\"The mode of this dataset is {}.\".format(mode))\n",
    "\n",
    "# Variance. v = sum((x - mean) ** 2) / (n - 1)\n",
    "variance = df[\"age\"].var()\n",
    "print(\"The variance of this dataset is {}.\".format(variance))\n",
    "\n",
    "# Standard Deviation. s = v ** 0.5\n",
    "# To get sample instead of population standard, use ddof=1.\n",
    "sd = np.std(df[\"age\"])\n",
    "print(\"The standard deviation of this dataset is {}.\".format(sd))\n",
    "\n",
    "# Standard Error. se = s / (n ** 0.5)\n",
    "se = np.std(df[\"age\"]) / np.sqrt(len(df[\"age\"]))\n",
    "print(\"The standard error of this dataset is {}.\".format(se))"
   ]
  },
  {
   "cell_type": "code",
   "execution_count": 21,
   "metadata": {
    "collapsed": true
   },
   "outputs": [],
   "source": [
    "# Answer the drill Question 2.\n",
    "# I would pick one estimate of variance to describe the data.  \n",
    "# The central tendency only gives you a general idea of the dataset on its midpoint, but no information on the rest of data.\n",
    "# The variance will be able to tell you how far apart are each of the data, thus giving you information on all of dataset."
   ]
  },
  {
   "cell_type": "code",
   "execution_count": 31,
   "metadata": {},
   "outputs": [
    {
     "name": "stdout",
     "output_type": "stream",
     "text": [
      "The mean for this data is 10.0.\n",
      "The second method for the mean is 10.0.\n",
      "The median for this dataset is 10.\n",
      "The second method for the median is 10.0.\n",
      "The mode of this dataset is 8.\n",
      "The variance of this dataset is 6.333333333333333.\n",
      "The standard deviation of this dataset is 2.32992949004287.\n",
      "The standard error of this dataset is 0.8806305718527109.\n"
     ]
    }
   ],
   "source": [
    "# Answer the drill Question 3.\n",
    "# Cindy now has 1 additional increase to her age.\n",
    "# See results below.\n",
    "df[\"newage\"] = [14, 12, 11, 10, 8, 7, 8]\n",
    "\n",
    "# mean = sum(x) / n\n",
    "mean = sum(df[\"newage\"]) / len(df[\"newage\"])\n",
    "print(\"The mean for this data is {}.\".format(mean))\n",
    "\n",
    "# Second method for mean.\n",
    "print(\"The second method for the mean is {}.\".format(np.mean(df[\"newage\"])))\n",
    "\n",
    "# Median is the centermost point of the dataset.\n",
    "median = statistics.median(df[\"newage\"])\n",
    "print(\"The median for this dataset is {}.\".format(median))\n",
    "\n",
    "# Second method for median.\n",
    "print(\"The second method for the median is {}.\".format(np.median(df[\"newage\"])))\n",
    "\n",
    "# Mode is the most number of times something appears.\n",
    "mode = statistics.mode(df[\"newage\"])\n",
    "print(\"The mode of this dataset is {}.\".format(mode))\n",
    "\n",
    "# Variance. v = sum((x - mean) ** 2) / (n - 1)\n",
    "variance = df[\"newage\"].var()\n",
    "print(\"The variance of this dataset is {}.\".format(variance))\n",
    "\n",
    "# Standard Deviation. s = v ** 0.5\n",
    "# To get sample instead of population standard, use ddof=1.\n",
    "sd = np.std(df[\"newage\"])\n",
    "print(\"The standard deviation of this dataset is {}.\".format(sd))\n",
    "\n",
    "# Standard Error. se = s / (n ** 0.5)\n",
    "se = np.std(df[\"newage\"]) / np.sqrt(len(df[\"newage\"]))\n",
    "print(\"The standard error of this dataset is {}.\".format(se))"
   ]
  },
  {
   "cell_type": "code",
   "execution_count": 34,
   "metadata": {},
   "outputs": [
    {
     "name": "stdout",
     "output_type": "stream",
     "text": [
      "The mean for this data is 9.0.\n",
      "The second method for the mean is 9.0.\n",
      "The median for this dataset is 10.\n",
      "The second method for the median is 10.0.\n",
      "The mode of this dataset is 1.\n",
      "The variance of this dataset is 18.0.\n",
      "The standard deviation of this dataset is 3.927922024247863.\n",
      "The standard error of this dataset is 1.4846149779161806.\n"
     ]
    }
   ],
   "source": [
    "# Answer the drill Question 4.\n",
    "# Cousin Oliver replaced with 1 year old Jessica.\n",
    "# See results below.  Mode needs a different formula to generate right answers.\n",
    "# Central tendency has dropped.  Variance has changed.\n",
    "df[\"jessage\"] = [14, 12, 11, 10, 8, 7, 1]\n",
    "\n",
    "# mean = sum(x) / n\n",
    "mean = sum(df[\"jessage\"]) / len(df[\"jessage\"])\n",
    "print(\"The mean for this data is {}.\".format(mean))\n",
    "\n",
    "# Second method for mean.\n",
    "print(\"The second method for the mean is {}.\".format(np.mean(df[\"jessage\"])))\n",
    "\n",
    "# Median is the centermost point of the dataset.\n",
    "median = statistics.median(df[\"jessage\"])\n",
    "print(\"The median for this dataset is {}.\".format(median))\n",
    "\n",
    "# Second method for median.\n",
    "print(\"The second method for the median is {}.\".format(np.median(df[\"jessage\"])))\n",
    "\n",
    "# Mode is the most number of times something appears.\n",
    "# Generate list of unique elements along with how often they occur.\n",
    "(values, counts) = np.unique(df[\"jessage\"], return_counts=True)\n",
    "# The location in the values list of the most-frequently-occuring element.\n",
    "ind = np.argmax(counts)\n",
    "# The most frequent element.\n",
    "mode = values[ind]\n",
    "#mode = statistics.mode(df[\"jessage\"])\n",
    "print(\"The mode of this dataset is {}.\".format(mode))\n",
    "\n",
    "# Variance. v = sum((x - mean) ** 2) / (n - 1)\n",
    "variance = df[\"jessage\"].var()\n",
    "print(\"The variance of this dataset is {}.\".format(variance))\n",
    "\n",
    "# Standard Deviation. s = v ** 0.5\n",
    "# To get sample instead of population standard, use ddof=1.\n",
    "sd = np.std(df[\"jessage\"])\n",
    "print(\"The standard deviation of this dataset is {}.\".format(sd))\n",
    "\n",
    "# Standard Error. se = s / (n ** 0.5)\n",
    "se = np.std(df[\"jessage\"]) / np.sqrt(len(df[\"jessage\"]))\n",
    "print(\"The standard error of this dataset is {}.\".format(se))"
   ]
  },
  {
   "cell_type": "code",
   "execution_count": null,
   "metadata": {
    "collapsed": true
   },
   "outputs": [],
   "source": [
    "# Answer the drill Question 5.\n",
    "# 20% TV Guide, 23% Entertainment Weekly, 17% Pop Culture Today, 5% SciPhi Phanatics.\n",
    "# Percentage of readers of the four different magazines.\n",
    "# 5% outlier, ignore.\n",
    "# (20 + 23 + 17) / 3 = 20%"
   ]
  }
 ],
 "metadata": {
  "kernelspec": {
   "display_name": "Python 3",
   "language": "python",
   "name": "python3"
  },
  "language_info": {
   "codemirror_mode": {
    "name": "ipython",
    "version": 3
   },
   "file_extension": ".py",
   "mimetype": "text/x-python",
   "name": "python",
   "nbconvert_exporter": "python",
   "pygments_lexer": "ipython3",
   "version": "3.6.3"
  }
 },
 "nbformat": 4,
 "nbformat_minor": 2
}
