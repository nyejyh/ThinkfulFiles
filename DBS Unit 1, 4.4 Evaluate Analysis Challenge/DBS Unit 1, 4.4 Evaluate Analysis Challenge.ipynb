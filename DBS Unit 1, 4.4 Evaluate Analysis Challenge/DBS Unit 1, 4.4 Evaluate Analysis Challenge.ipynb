{
 "cells": [
  {
   "cell_type": "markdown",
   "metadata": {},
   "source": [
    "# Challenge: Evaluate an experiment analysis\n",
    "\n",
    "## Summary\n",
    "Read the following descriptions of an experiment and its analysis, identify the flaws in each, and describe what you would do to correct them.\n",
    "\n",
    "### Experiment 1\n",
    "The Sith Lords are concerned that their recruiting slogan, \"Give In to Your Anger,\" isn't very effective. Darth Vader develops an alternative slogan, \"Together We Can Rule the Galaxy.\" They compare the slogans on two groups of 50 captured droids each. In one group, Emperor Palpatine delivers the \"Anger\" slogan. In the other, Darth Vader presents the \"Together\" slogan. 20 droids convert to the Dark Side after hearing Palpatine's slogan, while only 5 droids convert after hearing Vader's. The Sith's data scientist concludes that \"Anger\" is a more effective slogan and should continue to be used.\n",
    "\n",
    "### Answer 1\n",
    "The flaw in this conclusion is that all 100 captured droids could have different sources.  They might have come from different places, with different manufacturers, and assembled with different parts.  Each one of these droids might also have different programming implemented into them.  As they are captured droids, the variations are too much to account for.  If the droids were all manufactured and programmed by one source, for example the Sith Lords themselves, then the randomness and similarity factors will be even more assured.  This is most likely the the sampling bias (selection bias) that is causing issues with the conclusion they decided on.\n",
    "\n",
    "### Experiment 2\n",
    "In the past, the Jedi have had difficulty with public relations. They send two envoys, Jar Jar Binks and Mace Windu, to four friendly and four unfriendly planets respectively, with the goal of promoting favorable feelings toward the Jedi. Upon their return, the envoys learn that Jar Jar was much more effective than Windu: Over 75% of the people surveyed said their attitudes had become more favorable after speaking with Jar Jar, while only 65% said their attitudes had become more favorable after speaking with Windu. This makes Windu angry, because he is sure that he had a better success rate than Jar Jar on every planet. The Jedi choose Jar Jar to be their representative in the future.\n",
    "\n",
    "### Answer 2\n",
    "The experiment has a flaw because Jar Jar Binks and Mace Windu are composed of different races.  One is alien, while the other is human.  This could skew the experiment because all 8 planets could have more people of the alien race, causing them to be more closely \"identify\" with Jar Jar Binks than with Mace Windu.  If we were to find another different 8 planets to run the tests again, it could very likely end up that Windu is more successful.  Another issue is the origins of the two representatives.  Jar Jar Binks is not necessarily a Jedi, while Mace Windu is.  The contents of their speech or conversations can be very different, which can cause the affinity to vary.  This is related to sampling bias since the populations themselves are not similar to give randomness.\n",
    "\n",
    "### Experiment 3\n",
    "A company with work sites in five different countries has sent you data on employee satisfaction rates for workers in Human Resources and workers in Information Technology. Most HR workers are concentrated in three of the countries, while IT workers are equally distributed across worksites. The company requests a report on satisfaction for each job type. You calculate average job satisfaction for HR and for IT and present the report.\n",
    "\n",
    "### Answer 3\n",
    "This will be a sampling bias as HR workers are concentrated in three of the five countries, while the IT workers are equally distributed in these five countries.  Also, the locations of each different countries could have different economics at play, such as higher cost of food and living, which may affect the employee satisfactions for everyone.  If the company was to keep the level of pay the same for all HR workers and IT workers across all different countries, the pay might be enough for both departments of workers in one country, while not enough for another country.  A solution to this would be the usage of normalization, which will allow us to compare the different populations.\n",
    "\n",
    "Then, there's the issue of the different category of works that HR and IT workers do.  In general, the pay level could be very different for the two different departments across all countries, thus affecting their satisfaction levels.  The pay that satisfied the IT department is probably not the pay HR is getting, so they could be unsatisfied in the same country.  These are related to the contextual bias. \n",
    "\n",
    "### Experiment 4\n",
    "When people install the Happy Days Fitness Tracker app, they are asked to \"opt in\" to a data collection scheme where their level of physical activity data is automatically sent to the company for product research purposes. During your interview with the company, they tell you that the app is very effective because after installing the app, the data show that people's activity levels rise steadily.\n",
    "\n",
    "### Answer 4\n",
    "This is sampling bias because the app asked people to opt into the data collection scheme, instead of bypassing and forcing all users to be a part of the data collection scheme.  For those who do not want to be a part of the data collection, they can simply opt out.  What we have is a very skewed sample becuase the experiment and conclusion we are making are only based on the people who decided to opt in.  There is a possibility that there are even more people who decided to opt out, and that the people's activity is not reflective of the entire population.\n",
    "\n",
    "### Experiment 5\n",
    "To prevent cheating, a teacher writes three versions of a test. She stacks the three versions together, first all copies of Version A, then all copies of Version B, then all copies of Version C. As students arrive for the exam, each student takes a test. When grading the test, the teacher finds that students who took Version B scored higher than students who took either Version A or Version C. She concludes from this that Version B is easier, and discards it.\n",
    "\n",
    "### Answer 5\n",
    "This is related to observer bias because this problem comes from the person who is running the study.  We could assume that all the students were cheating, but only have one set of answers which happen to closely resemble the answers for Version B.  This means that Version B is not necessarily easier, but just more relevant to the students who took the tests.  We could also assume that none of the students were cheating, and that those who took Version B happen to be the students who are smarter or studied more.  Then this means that the tests themselves were not at fault, but rather the variation of the students who took it caused the experiment to be skewed a certain direction.  Finally, the way that the teacher stacked the three different versions could affect how the students perform (such as having the answers only to version B)."
   ]
  }
 ],
 "metadata": {
  "kernelspec": {
   "display_name": "Python 3",
   "language": "python",
   "name": "python3"
  },
  "language_info": {
   "codemirror_mode": {
    "name": "ipython",
    "version": 3
   },
   "file_extension": ".py",
   "mimetype": "text/x-python",
   "name": "python",
   "nbconvert_exporter": "python",
   "pygments_lexer": "ipython3",
   "version": "3.6.4"
  }
 },
 "nbformat": 4,
 "nbformat_minor": 2
}
