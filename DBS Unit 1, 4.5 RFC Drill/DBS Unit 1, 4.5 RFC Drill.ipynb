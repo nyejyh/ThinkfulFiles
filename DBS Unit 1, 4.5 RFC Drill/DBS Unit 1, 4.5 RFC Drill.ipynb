{
 "cells": [
  {
   "cell_type": "markdown",
   "metadata": {},
   "source": [
    "# RFC of Tests in a Class\n",
    "\n",
    "## Summary\n",
    "Write up essentials points of an RFC for the following experiment:\n",
    "To prevent cheating, a teacher writes three versions of a test. She stacks the three versions together, first all copies of Version A, then all copies of Version B, then all copies of Version C. As students arrive for the exam, each student takes a test. When grading the test, the teacher finds that students who took Version B scored higher than students who took either Version A or Version C. She concludes from this that Version B is easier, and discards it.\n",
    "\n",
    "## Response\n",
    "\n",
    "### The problem\n",
    "How to set up testing to prevent students from cheating?  Cheating allows students to do well on the tests and reward them for the efforts that they did not put in.\n",
    "\n",
    "### The potential solution\n",
    "The proposed hypothesis to test for is to use the 3 different versions created for the tests and randomize them according to the seating of the students.  The hand outs of the tests can be given in the following per copy: A, B, then C.  The seating of the students will be based on their performance on the older tests, and be arranged in pattern similar to this: high scoring, low scoring, then medium scoring.  This is simply an attempt to create as randomized sample as possible for the experiment.\n",
    "\n",
    "If not one particular version out of the three out performs the other two by differential of 10% of total score, then we can conclude that cheating has been prevented and there is no version of the test that is easier for the students.  If there is a particular version that outperforms by more than 10%, perform the same test on the next batch of class to see if this happens again.  If it does, investigate the cause.\n",
    "\n",
    "###  Other methods to consider\n",
    "Other methods to consider for a potential solution would include creating more versions of the tests, gaming the students so that they prepare for the old versions of the tests but ended up having to take completely different tests, and giving tests at different timing (first row starts, then next row starts 5 minutes later, and so on)."
   ]
  }
 ],
 "metadata": {
  "kernelspec": {
   "display_name": "Python 3",
   "language": "python",
   "name": "python3"
  },
  "language_info": {
   "codemirror_mode": {
    "name": "ipython",
    "version": 3
   },
   "file_extension": ".py",
   "mimetype": "text/x-python",
   "name": "python",
   "nbconvert_exporter": "python",
   "pygments_lexer": "ipython3",
   "version": "3.6.3"
  }
 },
 "nbformat": 4,
 "nbformat_minor": 2
}
