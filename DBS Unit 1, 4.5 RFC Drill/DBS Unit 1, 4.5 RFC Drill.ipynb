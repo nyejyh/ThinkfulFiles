{
 "cells": [
  {
   "cell_type": "markdown",
   "metadata": {},
   "source": [
    "# RFC of Tests in a Class\n",
    "\n",
    "## Summary\n",
    "Write up essentials points of an RFC for the following experiment:\n",
    "To prevent cheating, a teacher writes three versions of a test. She stacks the three versions together, first all copies of Version A, then all copies of Version B, then all copies of Version C. As students arrive for the exam, each student takes a test. When grading the test, the teacher finds that students who took Version B scored higher than students who took either Version A or Version C. She concludes from this that Version B is easier, and discards it.\n",
    "\n",
    "## Response\n",
    "\n",
    "### The problem\n",
    "How to set up testing to prevent students from cheating?  Cheating allows students to do well on the tests and reward them for the efforts that they did not put in.\n",
    "\n",
    "### The potential solution\n",
    "The proposed hypothesis is that making three versions to the test will prevent students from cheating.  To test for this, we use the 3 different versions created for the tests and randomize them according to the seating of the students.  The hand outs of the tests can be given in the following per copy: A, B, then C.  The seating of the students will be based on their performance on the older tests, and be arranged in pattern similar to this: high scoring, low scoring, then medium scoring.  This is simply an attempt to create as randomized sample as possible for the experiment.\n",
    "\n",
    "If not one particular version out of the three out performs the other two by differential of 10% of total score, then we can conclude that cheating has been prevented and there is no version of the test that is easier for the students.  If there is a particular version that outperforms by more than 10%, then the three versions did not prevent cheating.  We can perform the same test on the next batch of class to see if this happens again.  If it does, investigate the cause as to why students do particularly well on a version of a test.  Is it because the students scored better since they are all the better students?  Or are the usually high-performing students and low-performing students all mixed together evenly more or less, but still score very well on this version?\n",
    "\n",
    "It will not be possible to get a large number of students unless we account for a large number of classes.  Even then, each classroom will probably hold up to a maximum of 50 students.  Therefore our performed t-value will likely be very small.  What will really affect the t-value is the variability.  If we have all kinds of scores for the students (high and low performing scores clustered near between two extremes of a range from 0 to 100), then we will likely have higher t-value.  If we have students who are mostly about the same in their scores, then we will likely get lower t-value.  A high t-value would mean that we should be interested in understanding why there is a difference between the high scorers and low scorers.\n",
    "\n",
    "The null hypothesis, which should be the opposite to the proposed hypothesis, is that making the three versions to the test will not prevent the students from cheating.  Since no variety of versions of tests will be available for null hypothesis, it will also not be possible to do any kinds of sorting like the randomized or ordered sorting.\n",
    "\n",
    "The p-value is used for this null hypothesis, in which it helps us to calculate the t-values that we will get if the null hypothesis is true.  \n",
    "\n",
    "###  Other methods to consider\n",
    "Other methods to consider for a potential solution would include creating more versions of the tests, gaming the students so that they prepare for the old versions of the tests but ended up having to take completely different tests, and giving tests at different timing (first row starts, then next row starts 5 minutes later, and so on)."
   ]
  }
 ],
 "metadata": {
  "kernelspec": {
   "display_name": "Python 3",
   "language": "python",
   "name": "python3"
  },
  "language_info": {
   "codemirror_mode": {
    "name": "ipython",
    "version": 3
   },
   "file_extension": ".py",
   "mimetype": "text/x-python",
   "name": "python",
   "nbconvert_exporter": "python",
   "pygments_lexer": "ipython3",
   "version": "3.6.4"
  }
 },
 "nbformat": 4,
 "nbformat_minor": 2
}
