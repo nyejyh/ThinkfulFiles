{
 "cells": [
  {
   "cell_type": "code",
   "execution_count": 75,
   "metadata": {
    "scrolled": true
   },
   "outputs": [
    {
     "name": "stdout",
     "output_type": "stream",
     "text": [
      "                                           journal  count\n",
      "0                                         PLOS ONE    208\n",
      "1                  JOURNAL OF BIOLOGICAL CHEMISTRY     61\n",
      "2                                       NEUROIMAGE     33\n",
      "3  PROCEEDINGS OF THE NATIONAL ACADEMY OF SCIENCES     27\n",
      "4                           NUCLEIC ACIDS RESEARCH     23\n"
     ]
    }
   ],
   "source": [
    "import pandas as pd\n",
    "import re\n",
    "import sys\n",
    "\n",
    "# UnicodeDecodeError: 'utf-8' codec can't decode byte 0xa3 in position 6: invalid start byte.\n",
    "# Tested using encoding 'cp1252' threw me a special error, so decided to test for encoding 'Latin-1'.\n",
    "df = pd.read_csv('WELLCOME_APCspend2013_forThinkful.csv', encoding='Latin-1')\n",
    "\n",
    "# Change column header to make it easier.\n",
    "df.columns = ['id', 'publisher', 'journal_title', 'article_title', 'cost']\n",
    "\n",
    "# Notice caps in all words, caps in some words, caps  random locations.\n",
    "# Blanket caps everything instead of changing each word one by one.\n",
    "#df['journal_title'] = df['journal_title'].str.upper()\n",
    "\n",
    "# Need to change specific parts in order to make effective data cleaning.\n",
    "df['journal_title'] = df['journal_title'].replace(['PloS One', 'Plos', 'PLoS', 'PLOS  ONE', 'Plos ONE', 'PloS ONE', 'Plos One', 'PLosONE', 'PlosONE', 'PLOSONE', 'PLOS ONE', 'PLoS 1', 'PLOS 1', 'PLOS', 'PLoS One', 'PLoS ONE', 'PLOS One'], 'PLOS ONE')\n",
    "df['journal_title'] = df['journal_title'].replace(['Acta D', 'ACTA D', 'ACTA CRYSTALLOGRAPHICA SECTION D', 'ACTA CRYSTALLOGRAPHY D', 'ACTA CRYSTALLOGRAPHICA, SECTION D', 'ACTA CRYSTALLOGRAPHICA SECTION D, BIOLOGICAL CRYSTALLOGRAPHY'], 'ACTA CRYSTALLOGRAPHICA SECTION D: BIOLOGICAL CRYSTALLOGRAPHY')\n",
    "df['journal_title'] = df['journal_title'].replace(['Journal of Physiology', ' Journal of Neurophysiology'], 'JOURNAL OF PHYSIOLOGY')\n",
    "df['journal_title'] = df['journal_title'].replace(['BMJ QUALITY AND SAFETY', 'BMJ', 'BMJ Open', 'BMJ OPEN'], 'BMJ')\n",
    "df['journal_title'] = df['journal_title'].replace(['Neuroimage: Clinical', 'Neuroimage', 'Neurolmage', 'Neuro1mage', 'Neuroimage', 'NeuroImage'], 'NEUROIMAGE')\n",
    "df['journal_title'] = df['journal_title'].replace(['Journal of the International AIDS Society', 'AIDS Behav', 'Aids Care', 'AIDS Care', 'AIDS UK', 'AIDS Research and Therapy'], 'AIDS')\n",
    "df['journal_title'] = df['journal_title'].replace(['Neurology', 'Annals of Neurology', 'The Lancet Neurology'], 'NEUROLOGY')\n",
    "df['journal_title'] = df['journal_title'].replace(['Age', 'AGE', 'AgE', 'aGe'], 'AGE')\n",
    "df['journal_title'] = df['journal_title'].replace(['RNA', 'RnA', 'rNa', 'Rna', 'RNA biology'], 'RNA')\n",
    "df['journal_title'] = df['journal_title'].replace(['Emotion', 'EMOTION', 'emotion'], 'EMOTION')\n",
    "df['journal_title'] = df['journal_title'].replace(['Cancer Letters', 'CANCER LETTERS', 'cancer letters'], 'CANCER LETTERS')\n",
    "df['journal_title'] = df['journal_title'].replace(['Journal of Biological Chemistry', 'BIOLOGICAL CHEMISTRY', 'JOURNAL OF BIOLOGICAL CHEMISTRY', 'The Journal of Biological Chemistry', 'Jnl Biological Chemistry'], 'JOURNAL OF BIOLOGICAL CHEMISTRY') \n",
    "df['journal_title'] = df['journal_title'].replace(['Nucleic Acids Research', 'NUCLEIC ACIDS RESEARCH'], 'NUCLEIC ACIDS RESEARCH')\n",
    "df['journal_title'] = df['journal_title'].replace(['Proceedings of the National Academy of Sciences', 'National Academy of Sciences', 'PNAS (Proceedings of the National Academy of Sciences of the United States of America', 'Proceedings of the National Academy of Sciences of the United States of America', 'Proceedings of the National Academy of Sciences (PNAS)', 'Proceedings of the National Academy of Sciences of the USA'], 'PROCEEDINGS OF THE NATIONAL ACADEMY OF SCIENCES')\n",
    "\n",
    "# Find the five most common journals with total articles for each, so count them up.\n",
    "# Create a new dataframe using df column, count up value, and reset any indexes back to normal\n",
    "common_journals = pd.DataFrame(df['journal_title'].value_counts().reset_index())\n",
    "# Rename two new columns\n",
    "common_journals.columns = ['journal', 'count']\n",
    "print(common_journals[0:5])\n",
    "#print(common_journals[200:250])"
   ]
  },
  {
   "cell_type": "code",
   "execution_count": 76,
   "metadata": {},
   "outputs": [
    {
     "name": "stdout",
     "output_type": "stream",
     "text": [
      "The mean of the open-access cost per article for each journal is 24067.33997179131\n",
      "The median of the open-access cost per article for each journal is 1884.01\n",
      "The standard deviation of the open-access cost per article for each journal is 146860.6655590476\n"
     ]
    }
   ],
   "source": [
    "# Notice there is the weird signs for cost per article, remove it\n",
    "df['cost'] = df['cost'].str.replace('£', '')\n",
    "df['cost'] = df['cost'].str.replace('$', '')\n",
    "\n",
    "# Find data type for cost column\n",
    "df.dtypes\n",
    "# All values in cost column are string, so convert to float numbers\n",
    "# The one below is depreciated, so use .to_numeric.\n",
    "# This also helped me to find $ in random rows.\n",
    "#df['cost'] = df['cost'].convert_objects(convert_numeric=True)\n",
    "df['cost'] = pd.to_numeric(df.cost)\n",
    "\n",
    "# Now find the mean of costs\n",
    "mean = df['cost'].mean()\n",
    "print('The mean of the open-access cost per article for each journal is {}'.format(mean))\n",
    "median = df['cost'].median()\n",
    "print('The median of the open-access cost per article for each journal is {}'.format(median))\n",
    "sd = df['cost'].std()\n",
    "print('The standard deviation of the open-access cost per article for each journal is {}'.format(sd))"
   ]
  }
 ],
 "metadata": {
  "kernelspec": {
   "display_name": "Python 3",
   "language": "python",
   "name": "python3"
  },
  "language_info": {
   "codemirror_mode": {
    "name": "ipython",
    "version": 3
   },
   "file_extension": ".py",
   "mimetype": "text/x-python",
   "name": "python",
   "nbconvert_exporter": "python",
   "pygments_lexer": "ipython3",
   "version": "3.6.3"
  }
 },
 "nbformat": 4,
 "nbformat_minor": 2
}
