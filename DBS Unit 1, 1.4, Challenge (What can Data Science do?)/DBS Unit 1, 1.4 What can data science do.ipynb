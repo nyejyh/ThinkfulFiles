{
 "cells": [
  {
   "cell_type": "markdown",
   "metadata": {},
   "source": [
    "### E-commerce Company\n",
    "A question I would have with the information collected at an e-commerce company is what will make make the customer buy our products?  What are the factors that draw the visitors to our site, what pages they linger on the most, and what products do they buy?  To test what factors attract the visitors, we can put down tests that measure their behaviors.  We can see what Search Engine Optimization words first drew the visitors to our e-commerce site, such as the keywords that attract them.  We can also pull out history of keywords that visitors search in our website.  We can time the length of time a visitor stays in any of the pages of our website at any given time.  The combination of these tests can give us an idea of how our customers behave and what they are looking for.\n",
    "\n",
    "We can use the cost and price informatino for our goods to compare our rates with competitors.  Say the competitors usually include other sellers selling similar goods to widgets, doodads, and fizzbangs.  We can monitor the price range of the competitors' goods, then compare these prices to our own.  This will create a statical test that we can apply to see how the visitors behave.  Do less people buy from our site and only use our e-commerce site as a point of comparison?  Or do they buy more from our site?  We can test to see whether the price is a deciding factor.  Another thing e-commerce deals with is shipping cost, which we could run parallel tests on (free shipping or otherwise, for example).\n",
    "\n",
    "### Web Design Company\n",
    "The question that is to be asked is why people are no longer signing up at our web design company in order to get websites built for them.  The onboarding funnel is basically a process for any interested visitors to complete and eventually pay.  Since we have information on how much time they spend on the three processes (email/password signup, plan choice, and payment), we can determine the visitors behavior by the length of time they spend on each sectors.  We can test assuming that longer time means strength of hesitation, which means increased chance of unsuccessful signups.  There is a possibility that people sign up just to find out the pricing ranges our plans have, and may refuse to continue once they find out they can find a cheaper alternative.\n",
    "\n",
    "Information on marketing expenditures usually mean SEO success rates.  If the visitors are drawn in by online advertisements to our site, but then stop at the first sector, then it could be related to security issues.  If they stop at the second sector, then it might be the expense issues.  The third sector is most likely similar to the second sector's issues, or also be related to security as some potential clients might be turned off by the \"sketch\" vibe from payment section. We can plot average time for each sectors for all successful signups, versus the unsuccessful signups for visitors.  By comparing a total of 6 different sectors, we can research on the visitors' behaviors.\n",
    "\n",
    "### Hotel Website Company\n",
    "The problem is proposing a better ranking system than the current system that ranks by price for a city with 100 hotels.  The question to ask for the hotels' rating website company would to ask what factors, besides price, helps to decide on  picking a good hotel.  A few factors come to mind, including distance to traveling buildings, available restaurants in the area, and its distance to other 99 hotels.  \n",
    "\n",
    "Another major factor would be the ratings given by past customers, which can easily sway the decisions of future customers.  We can test this by summing up keywords that could be deciding factors in what people write in reviews, such as \"bad service\" or \"relaxing place.\"  By counting up and averaging the keywords per hotel, we can use this in comparison to prices offered by the 100 hotels to see whether they affect each other.  Then, we can test to see whether this affect the stay.\n",
    "\n",
    "### Social Network Company\n",
    "The problem is finding out if their churn is atypical, or that users who stopped using our product are not representative of the target audience.  We can use the three years of data for users, which include entry for logging in, timestamps, and length of session.  The question we would like to ask is whether the if the users are consistent with their use of our social networking product.  We can test to see if on average, users start to space out their entry times until they no longer log in.  We can also test to see if the users are continuing to use as much as possible, but then suddenly just drop the site (possible behavior of a burnout).  \n",
    "\n",
    "On testing for timestamp and length of session, we can determine whether the users simply can't log in at the time.  For example, a day work would normally not be able to log in from 9AM to 6PM (or maybe very rarely).  We can test to remove any data that we can attribute to a certain behavior of categories of people.  Then we take whatever is left and test to see if they are atypical, such as seeing if their behavior is more continuous throughout the day (log in at late night).  Sometimes, it might be possible that they are bots (if behaviors cannot be explained)."
   ]
  }
 ],
 "metadata": {
  "kernelspec": {
   "display_name": "Python 3",
   "language": "python",
   "name": "python3"
  },
  "language_info": {
   "codemirror_mode": {
    "name": "ipython",
    "version": 3
   },
   "file_extension": ".py",
   "mimetype": "text/x-python",
   "name": "python",
   "nbconvert_exporter": "python",
   "pygments_lexer": "ipython3",
   "version": "3.6.3"
  }
 },
 "nbformat": 4,
 "nbformat_minor": 2
}
