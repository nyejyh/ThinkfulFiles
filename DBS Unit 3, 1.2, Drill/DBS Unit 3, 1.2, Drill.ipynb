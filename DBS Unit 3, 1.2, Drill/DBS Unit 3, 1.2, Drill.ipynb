{
 "cells": [
  {
   "cell_type": "markdown",
   "metadata": {},
   "source": [
    "### Drill Question\n",
    "\n",
    "Let's say we work at a credit card company and we're trying to figure out if people are going to pay their bills on time. We have everyone's purchases, split into four main categories: groceries, dining out, utilities, and entertainment. What are some ways you might use KNN to create this model? What aspects of KNN would be useful? Write up your thoughts in submit a link below.\n",
    "\n",
    "# Answer\n",
    "KNN stands for \"K Nearest Neighbors Classifier.\"  The goal of this method is learning via similarity, where we look for datapoints most similar to the observation we are trying to predict.\n",
    "I can use normalization to make disappropriate data and make the comparable.  Here, there are four different categories of purchases that people make with their credit cards.  The biggest difference would be in the amount that people normally spend on average.  For example, utilities will have a lower range than the spending range for dining out.  One way is to rest the bounds of all the data to 0 and 1 with the rescaling method.\n",
    "Another way is to use the z-scores.  Z-scores will be the calculatios of how far each observation is from the mean, expressed in number of standard deviations.  They can be used to measure the distance for continuous data and put in terms how far from the mean of the spending is.\n",
    "Yet another method is weighting.  This will weight by the inverse of distance, so that closer datapoints have a higher weight than further ones (meaning more importance).  We can take the mean of all four main categories, then measure the datapoints by putting more weights on those closer to that particular mean.  For instance, say the mean for all four categories is $100.  Any of the spendings in these four categories that are generally closer to this mean wiill have more weight.  With those heavier weights, we can determine which of the four categories of spenders will pay their bills on time (for example, most of the entertainment-goers pay on time because they could have higher spending habits)."
   ]
  }
 ],
 "metadata": {
  "kernelspec": {
   "display_name": "Python 3",
   "language": "python",
   "name": "python3"
  },
  "language_info": {
   "codemirror_mode": {
    "name": "ipython",
    "version": 3
   },
   "file_extension": ".py",
   "mimetype": "text/x-python",
   "name": "python",
   "nbconvert_exporter": "python",
   "pygments_lexer": "ipython3",
   "version": "3.6.4"
  }
 },
 "nbformat": 4,
 "nbformat_minor": 2
}
